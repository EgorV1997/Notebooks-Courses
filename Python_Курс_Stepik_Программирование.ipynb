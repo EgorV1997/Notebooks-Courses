{
 "cells": [
  {
   "cell_type": "markdown",
   "id": "a434419c",
   "metadata": {},
   "source": [
    "x = 5\n",
    "y = 10\n",
    "y > x * x or y >= 2 * x and x < y"
   ]
  },
  {
   "cell_type": "code",
   "execution_count": null,
   "id": "6774d09e",
   "metadata": {},
   "outputs": [],
   "source": [
    "a = int(input())\n",
    "b = int(input())\n",
    "if b != 0:\n",
    "    print(a / b)"
   ]
  },
  {
   "cell_type": "code",
   "execution_count": null,
   "id": "b4eaa9c1",
   "metadata": {},
   "outputs": [],
   "source": [
    "a = int(input())\n",
    "b = int(input())\n",
    "if b != 0:\n",
    "    print(a / b)\n",
    "else:\n",
    "    print(\"Деление не возможно!\")\n",
    "    b = int(input('Введите ненулевое значение'))\n",
    "    if b == 0:\n",
    "        print('Вы не справились. Попробуйте снова!')\n",
    "    else:\n",
    "        print(a / b)"
   ]
  },
  {
   "cell_type": "markdown",
   "id": "0a7673a8",
   "metadata": {},
   "source": [
    "**Задача №1**\n",
    "\n",
    "Из передачи “Здоровье” Аня узнала, что рекомендуется спать хотя бы **A** часов в сутки, но пересыпать тоже вредно и не стоит спать более **B** часов. Сейчас Аня спит **H** часов в сутки. Если режим сна Ани удовлетворяет рекомендациям передачи “Здоровье”, выведите “Это нормально”. Если Аня спит менее **A** часов, выведите “Недосып”, если же более **B** часов, то выведите “Пересып”.\n",
    "\n",
    "Получаемое число **A** всегда меньше либо равно **B**.\n",
    "\n",
    "На вход программе в три строки подаются переменные в следующем порядке: **A**, **B**, **H**.\n",
    "\n",
    "Обратите внимание на регистр символов: вывод должен в точности соответствовать описанному в задании, т. е. если программа должна вывести \"Пересып\", выводы программы \"пересып\", \"ПЕРЕСЫП\", \"ПеРеСыП\" и другие не будут считаться верными.\n",
    "\n",
    "Это первое не самое тривиальное задание на условное выражение. В случаях, когда разбить исполнение программы на несколько направлений, стоит внимательно обдумать все условия, которые нужно использовать. Особое внимание стоит уделить строгости используемых условных операторов: различайте \\lt< и \\le≤; \\gt> и \\ge≥. Для того, чтобы понимать, какой из них стоит использовать, внимательно прочитайте условие задания."
   ]
  },
  {
   "cell_type": "code",
   "execution_count": null,
   "id": "4017db31",
   "metadata": {},
   "outputs": [],
   "source": [
    "a = int(input())\n",
    "b = int(input())\n",
    "h = int(input()) \n",
    "\n",
    "if h > b:\n",
    "    print('Пересып')\n",
    "elif h < a:\n",
    "    print('Недосып')\n",
    "else:\n",
    "    print('Это нормально')"
   ]
  },
  {
   "cell_type": "markdown",
   "id": "f5cfba89",
   "metadata": {},
   "source": [
    "**Задача №2**\n",
    "\n",
    "Требуется определить, является ли данный год високосным.\n",
    "\n",
    "Напомним, что високосными годами считаются те годы, порядковый номер которых либо кратен 4, но при этом не кратен 100, либо кратен 400 (например, 2000-й год являлся високосным, а 2100-й будет невисокосным годом).\n",
    "\n",
    "Программа должна корректно работать на числах 1900≤n≤3000.\n",
    "\n",
    "Выведите \"Високосный\" в случае, если считанный год является високосным и \"Обычный\" в обратном случае (не забывайте проверять регистр выводимых программой символов)."
   ]
  },
  {
   "cell_type": "code",
   "execution_count": null,
   "id": "64cee789",
   "metadata": {},
   "outputs": [],
   "source": [
    "a = int(input())\n",
    "\n",
    "if a % 400 == 0:\n",
    "    print('Високосный')\n",
    "elif (a % 4 == 0) and (a % 100 != 0):\n",
    "    print('Високосный')   \n",
    "else:\n",
    "    print('Обычный')"
   ]
  },
  {
   "cell_type": "code",
   "execution_count": null,
   "id": "1b94e8b5",
   "metadata": {},
   "outputs": [],
   "source": []
  },
  {
   "cell_type": "code",
   "execution_count": 82,
   "id": "cb026ce9",
   "metadata": {},
   "outputs": [
    {
     "name": "stdout",
     "output_type": "stream",
     "text": [
      "1\n",
      "2\n",
      "Ghbdt\n",
      "aGhbdtb\n"
     ]
    }
   ],
   "source": [
    "a = int(input())\n",
    "b = int(input())\n",
    "oper = str(input())\n",
    "print(('a'+oper+'b'))"
   ]
  },
  {
   "cell_type": "markdown",
   "id": "e33b7a10",
   "metadata": {},
   "source": [
    "**Задача№1.12.3 Калькулятор** Напишите простой калькулятор, который считывает с пользовательского ввода три строки: первое число, второе число и операцию, после чего применяет операцию к введённым числам (\"первое число\" \"операция\" \"второе число\") и выводит результат на экран.\n",
    "\n",
    "Поддерживаемые операции: +, -, /, *, mod, pow, div, где \n",
    "\n",
    "mod — это взятие остатка от деления,\n",
    "\n",
    "pow — возведение в степень,\n",
    "\n",
    "div — целочисленное деление.\n",
    "\n",
    "Если выполняется деление и второе число равно 0, необходимо выводить строку \"Деление на 0!\".\n",
    "\n",
    "Обратите внимание, что на вход программе приходят вещественные числа."
   ]
  },
  {
   "cell_type": "markdown",
   "id": "3c59febc",
   "metadata": {},
   "source": [
    "Поддерживаемые операции: 1)+, 2)-, 3)/, 4)*, 5)mod, 6)pow, 7)div, где\n",
    "\n",
    "1)+\n",
    "\n",
    "2)-\n",
    "\n",
    "3)*\n",
    "\n",
    "4)pow(**)\n",
    "\n",
    "5)/\n",
    "\n",
    "6)div(//)\n",
    "\n",
    "7)mod(%)"
   ]
  },
  {
   "cell_type": "code",
   "execution_count": null,
   "id": "5e5871d3",
   "metadata": {},
   "outputs": [],
   "source": [
    "a = float(input())\n",
    "b = float(input())\n",
    "oper = str(input())\n",
    "\n",
    "if (oper == '+'): # 1\n",
    "    print(a + b)\n",
    "elif (oper == '-'): # 2\n",
    "    print(a - b)\n",
    "else:\n",
    "    if (oper == '*'): # 3\n",
    "        print(a * b)\n",
    "    elif (oper == 'pow'): # 4  возведение в степень,\n",
    "        print(a ** b)\n",
    "    else:\n",
    "        if (b == 0):\n",
    "            print(\"Деление на 0!\")\n",
    "        elif (oper == '/'): # 5\n",
    "            print(a / b)\n",
    "        else:\n",
    "            if (oper == 'div'): # 6  целочисленное деление.\n",
    "                print(a // b)\n",
    "            elif (oper == 'mod'): # 7 это взятие остатка от деления,\n",
    "                print(a % b)\n",
    "            else:\n",
    "                print('Попробуйте снова!')"
   ]
  },
  {
   "cell_type": "code",
   "execution_count": null,
   "id": "0b6d8c48",
   "metadata": {},
   "outputs": [],
   "source": [
    "array = list(range(1, 10))\n",
    "array[len(array)::-1]"
   ]
  },
  {
   "cell_type": "code",
   "execution_count": null,
   "id": "3e2fd9ff",
   "metadata": {},
   "outputs": [],
   "source": [
    "slice_2_5 = slice(2, 5)\n",
    "array[slice_2_5]"
   ]
  },
  {
   "cell_type": "code",
   "execution_count": null,
   "id": "c04d68fd",
   "metadata": {},
   "outputs": [],
   "source": [
    "names = ['Александр', 'Оля', 'Олега', 'Маша', 'Егорка']"
   ]
  },
  {
   "cell_type": "code",
   "execution_count": null,
   "id": "a3f41886",
   "metadata": {},
   "outputs": [],
   "source": [
    "sorted(names, key=lambda x: len(x))"
   ]
  },
  {
   "cell_type": "code",
   "execution_count": null,
   "id": "f6d75df5",
   "metadata": {},
   "outputs": [],
   "source": [
    "first = 'a b c d e'.split()\n",
    "first"
   ]
  },
  {
   "cell_type": "code",
   "execution_count": null,
   "id": "1154966a",
   "metadata": {},
   "outputs": [],
   "source": [
    "methods = dir(__builtin__)\n",
    "\n",
    "for num, n in enumerate(methods, start=1):\n",
    "    if num % 1 == 0:\n",
    "        print(num, n)"
   ]
  },
  {
   "cell_type": "code",
   "execution_count": null,
   "id": "17fa5881",
   "metadata": {},
   "outputs": [],
   "source": [
    "len(dir(__builtin__))"
   ]
  },
  {
   "cell_type": "code",
   "execution_count": 3,
   "id": "a815ebbb",
   "metadata": {},
   "outputs": [],
   "source": [
    "alf = ['a', 'b', 'c']\n",
    "enum = enumerate(alf)\n",
    "\n",
    "zip_style = zip(range(0, len(alf)), alf)"
   ]
  },
  {
   "cell_type": "markdown",
   "id": "576b8884",
   "metadata": {},
   "source": [
    "**Задача№1.12.4 Площади фигур**"
   ]
  },
  {
   "cell_type": "code",
   "execution_count": null,
   "id": "9c6d7d2d",
   "metadata": {},
   "outputs": [],
   "source": [
    "figure = str(input())\n",
    "\n",
    "if figure == 'треугольник':\n",
    "    a = float(input())\n",
    "    b = float(input())\n",
    "    c = float(input())\n",
    "    p = (a + b + c)/2\n",
    "    S = (p*(p-a)*(p-b)*(p-c))**(1/2)\n",
    "elif figure == 'прямоугольник':\n",
    "    a = float(input())\n",
    "    b = float(input())\n",
    "    S = (a * b)\n",
    "else:\n",
    "    r = float(input())\n",
    "    pi = 3.14\n",
    "    S = pi * r**2\n",
    "S"
   ]
  },
  {
   "cell_type": "markdown",
   "id": "c44f3ac8",
   "metadata": {},
   "source": [
    "**Задача№1.12.5** min() max() остаток"
   ]
  },
  {
   "cell_type": "code",
   "execution_count": null,
   "id": "09faa2bc",
   "metadata": {},
   "outputs": [],
   "source": [
    "a = float(input())\n",
    "b = float(input())\n",
    "c = float(input())\n",
    "list_abc = [a, b, c]\n",
    "list_abc_1 = list_abc.copy()\n",
    "\n",
    "print(max(list_abc))\n",
    "list_abc_1.remove(max(list_abc))\n",
    "print(min(list_abc))\n",
    "list_abc_1.remove(min(list_abc))\n",
    "print(float(str(list_abc_1)[1:-1])) # Печать без квадратных [] скобок"
   ]
  },
  {
   "cell_type": "markdown",
   "id": "cecae047",
   "metadata": {},
   "source": [
    "**Задача№1.12.6** Напишите программу, считывающую с пользовательского ввода целое число nn (неотрицательное), выводящее это число в консоль вместе с правильным образом изменённым словом \"программист\", для того, чтобы робот мог нормально общаться с людьми, например: 1 программист, 2 программиста, 5 программистов.**(число программистов 0≤n≤1000).**"
   ]
  },
  {
   "cell_type": "code",
   "execution_count": null,
   "id": "78f1df1b",
   "metadata": {},
   "outputs": [],
   "source": [
    "n = int(input())\n",
    "n = abs(n)\n",
    "n = str(n)\n",
    "\n",
    "if len(n) == 1:\n",
    "    if n[0] == '1':\n",
    "        print(n,'программист')\n",
    "    elif (n[0] == '2') or (n[0] == '3') or (n[0] == '4'):\n",
    "        print(n, 'программиста')\n",
    "    else:\n",
    "        print(n, 'программистов')\n",
    "elif len(n) == 2:\n",
    "    if (n[1] == '1') and (n[0] == '1'): # условие для 11\n",
    "        print(n, 'программистов')\n",
    "    elif n[1] == '1': # для единицы на конце\n",
    "        print(n,'программист')\n",
    "    elif (n[0] != '1') and ((n[1] == '2') or (n[1] == '3') or (n[1] == '4')):\n",
    "        print(n, 'программиста')\n",
    "    else:\n",
    "        print(n, 'программистов')\n",
    "elif len(n) == 3:\n",
    "    if (n[2] == '1') and (n[1] == '1'):\n",
    "        print(n, 'программистов')\n",
    "    elif n[2] == '1':\n",
    "        print(n,'программист')\n",
    "    elif (n[1] != '1') and ((n[2] == '2') or (n[2] == '3') or (n[2] == '4')):\n",
    "        print(n, 'программиста')\n",
    "    else:\n",
    "        print(n, 'программистов')\n",
    "else:\n",
    "    print(n, 'программистов')"
   ]
  },
  {
   "cell_type": "markdown",
   "id": "cb504dd2",
   "metadata": {},
   "source": [
    "**2-й(второй) Способ** Более изящное решение"
   ]
  },
  {
   "cell_type": "code",
   "execution_count": null,
   "id": "bb14d17d",
   "metadata": {},
   "outputs": [],
   "source": [
    "i=int(input())\n",
    "d=i%10\n",
    "h=i%100\n",
    "if d==1 and h!=11:\n",
    "    s=\"\"\n",
    "elif 1<d<5 and not 11<h<15:\n",
    "    s=\"а\"\n",
    "else:\n",
    "    s=\"ов\"\n",
    "print(i,\" программист\"+s)"
   ]
  },
  {
   "cell_type": "markdown",
   "id": "8ad4f1b5",
   "metadata": {},
   "source": [
    "**Задача№1.12.7** Дополнительная_Паша очень любит кататься на общественном транспорте, а получая билет, сразу проверяет, счастливый ли ему попался. Билет считается счастливым, если сумма первых трех цифр совпадает с суммой последних трех цифр номера билета."
   ]
  },
  {
   "cell_type": "markdown",
   "id": "9d22f24c",
   "metadata": {},
   "source": [
    "1 Способ решение с функцией **map()**"
   ]
  },
  {
   "cell_type": "code",
   "execution_count": 159,
   "id": "a46e2a84",
   "metadata": {},
   "outputs": [
    {
     "name": "stdout",
     "output_type": "stream",
     "text": [
      "1\n",
      "Обычный\n"
     ]
    }
   ],
   "source": [
    "n = list(map(int, list(input())))\n",
    "if sum(n[:3]) == sum(n[3:]):\n",
    "    print('Счастливый')\n",
    "else:\n",
    "    print('Обычный')"
   ]
  },
  {
   "cell_type": "markdown",
   "id": "f902529b",
   "metadata": {},
   "source": [
    "2 Способ решение с **list comprehension**"
   ]
  },
  {
   "cell_type": "code",
   "execution_count": null,
   "id": "7bb34a84",
   "metadata": {},
   "outputs": [],
   "source": [
    "n = [int(i) for i in str(input())]\n",
    "if sum(n[:3]) == sum(n[3:]):\n",
    "    print('Счастливый')\n",
    "else:\n",
    "    print('Обычный')"
   ]
  },
  {
   "cell_type": "markdown",
   "id": "d307cffa",
   "metadata": {},
   "source": [
    "# <center> 2  Циклы. Строки. Списки <center>"
   ]
  },
  {
   "cell_type": "markdown",
   "id": "dddf9f26",
   "metadata": {},
   "source": [
    "## 2.1 Цикл <font color='green'>while</font> "
   ]
  },
  {
   "cell_type": "code",
   "execution_count": 1,
   "id": "b1875b19",
   "metadata": {},
   "outputs": [
    {
     "name": "stdout",
     "output_type": "stream",
     "text": [
      "5\n",
      "4\n",
      "3\n",
      "2\n",
      "1\n"
     ]
    }
   ],
   "source": [
    "a = 5\n",
    "\n",
    "while a > 0:\n",
    "    print(a, end = '\\n')\n",
    "    a -= 1"
   ]
  },
  {
   "cell_type": "markdown",
   "id": "84e75d73",
   "metadata": {},
   "source": [
    "Вывести все нечётные числа от 5 до 55"
   ]
  },
  {
   "cell_type": "code",
   "execution_count": 19,
   "id": "b56c28aa",
   "metadata": {},
   "outputs": [
    {
     "name": "stdout",
     "output_type": "stream",
     "text": [
      "5 7 9 11 13 15 17 19 21 23 25 27 29 31 33 35 37 39 41 43 45 47 49 51 53 55 "
     ]
    }
   ],
   "source": [
    "# 1 - способ\n",
    "a = 5\n",
    "while a <= 55:\n",
    "    print(a, end = ' ')\n",
    "    a += 2"
   ]
  },
  {
   "cell_type": "code",
   "execution_count": 1,
   "id": "bd7b8fdd",
   "metadata": {},
   "outputs": [
    {
     "name": "stdout",
     "output_type": "stream",
     "text": [
      "5 7 9 11 13 15 17 19 21 23 25 27 29 31 33 35 37 39 41 43 45 47 49 51 53 55 "
     ]
    }
   ],
   "source": [
    "# 2 - способ с if\n",
    "a = 5\n",
    "while a <= 55:\n",
    "    if  a % 2 ==1:\n",
    "        print(a, end = ' ')\n",
    "    a += 1"
   ]
  },
  {
   "cell_type": "markdown",
   "id": "ea25f3aa",
   "metadata": {},
   "source": [
    "Вывести треугольник"
   ]
  },
  {
   "cell_type": "code",
   "execution_count": 5,
   "id": "0f42b18e",
   "metadata": {},
   "outputs": [
    {
     "name": "stdout",
     "output_type": "stream",
     "text": [
      "5\n",
      "*\n",
      "**\n",
      "***\n",
      "****\n",
      "*****\n"
     ]
    }
   ],
   "source": [
    "# 1 - способ\n",
    "n = int(input())\n",
    "c = 1\n",
    "while c <= n:\n",
    "    print('*' * c)\n",
    "    c +=1"
   ]
  },
  {
   "cell_type": "code",
   "execution_count": 8,
   "id": "7704624f",
   "metadata": {},
   "outputs": [
    {
     "name": "stdout",
     "output_type": "stream",
     "text": [
      "5\n",
      "*\n",
      "**\n",
      "***\n",
      "****\n",
      "*****\n"
     ]
    }
   ],
   "source": [
    "# 2 - способ\n",
    "n = int(input())\n",
    "stars = '*'\n",
    "while len(stars) <= n:\n",
    "    print(stars)\n",
    "    stars += '*'"
   ]
  },
  {
   "cell_type": "code",
   "execution_count": null,
   "id": "71a654ee",
   "metadata": {},
   "outputs": [],
   "source": [
    "# Сколько звёздочек выдаст?\n",
    "i = 0\n",
    "while i < 5:\n",
    "    print('*')\n",
    "    if i % 2 == 0:\n",
    "        print('**')\n",
    "    if i > 2:\n",
    "        print('***')\n",
    "    i = i + 1"
   ]
  },
  {
   "cell_type": "markdown",
   "id": "90a26f87",
   "metadata": {},
   "source": [
    "Посчитать сумму чисел от a до b."
   ]
  },
  {
   "cell_type": "code",
   "execution_count": 30,
   "id": "086390b6",
   "metadata": {},
   "outputs": [],
   "source": [
    "a = 2\n",
    "b = 4"
   ]
  },
  {
   "cell_type": "code",
   "execution_count": 31,
   "id": "f405294e",
   "metadata": {},
   "outputs": [
    {
     "name": "stdout",
     "output_type": "stream",
     "text": [
      "9\n"
     ]
    }
   ],
   "source": [
    "s = 0\n",
    "i = a\n",
    "while i<=b:\n",
    "    s += i\n",
    "    i += 1\n",
    "print(s)"
   ]
  },
  {
   "cell_type": "markdown",
   "id": "2955552b",
   "metadata": {},
   "source": [
    "Напишите программу, которая считывает со стандартного ввода целые числа, по одному числу в строке, и после первого введенного нуля выводит сумму полученных на вход чисел."
   ]
  },
  {
   "cell_type": "code",
   "execution_count": 38,
   "id": "44a25ef2",
   "metadata": {},
   "outputs": [
    {
     "name": "stdout",
     "output_type": "stream",
     "text": [
      "-2\n",
      "2\n",
      "3\n",
      "0\n",
      "3\n"
     ]
    }
   ],
   "source": [
    "# 1 - способ\n",
    "s = 0\n",
    "i = 1\n",
    "while i:  # – более краткий вариант (while i != 0:)\n",
    "    i = int(input())\n",
    "    s += i\n",
    "print(s)"
   ]
  },
  {
   "cell_type": "code",
   "execution_count": 29,
   "id": "c4838c40",
   "metadata": {},
   "outputs": [
    {
     "name": "stdout",
     "output_type": "stream",
     "text": [
      "-2\n",
      "3\n",
      "2\n",
      "0\n",
      "3\n"
     ]
    }
   ],
   "source": [
    "# 2 - способ\n",
    "c = []\n",
    "while c.count(0) == 0:\n",
    "    c.append(int(input()))   \n",
    "print(sum(c))"
   ]
  },
  {
   "cell_type": "markdown",
   "id": "68d655d2",
   "metadata": {},
   "source": [
    "**Задача №1.12.6** В Институте биоинформатики между информатиками и биологами устраивается соревнование. Победителям соревнования достанется большой и вкусный пирог. В команде биологов **a** человек, а в команде информатиков — **b** человек.\n",
    "\n",
    "Нужно заранее разрезать пирог таким образом, чтобы можно было раздать кусочки пирога любой команде, выигравшей соревнование, при этом каждому участнику этой команды должно достаться одинаковое число кусочков пирога. И так как не хочется резать пирог на слишком мелкие кусочки, нужно найти минимальное подходящее число.\n",
    "\n",
    "Напишите программу, которая помогает найти это число.\n",
    "Программа должна считывать размеры команд (два положительных целых числа **a** и **b**, каждое число вводится на отдельной строке) и выводить наименьшее число **d**, которое делится на оба этих числа без остатка."
   ]
  },
  {
   "cell_type": "code",
   "execution_count": 7,
   "id": "301d6f75",
   "metadata": {},
   "outputs": [
    {
     "name": "stdout",
     "output_type": "stream",
     "text": [
      "3\n",
      "7\n",
      "21\n"
     ]
    }
   ],
   "source": [
    "a = int(input())\n",
    "b = int(input())\n",
    "\n",
    "d = 0\n",
    "e = 0\n",
    "while d == 0:\n",
    "    e += 1\n",
    "    d = e\n",
    "    if d % a == 0:\n",
    "        if d % b == 0:\n",
    "            print(d)\n",
    "        else:\n",
    "            d = 0\n",
    "    else:\n",
    "        d = 0"
   ]
  },
  {
   "cell_type": "code",
   "execution_count": 8,
   "id": "033d8b50",
   "metadata": {},
   "outputs": [],
   "source": [
    "def my_function(a, b):\n",
    "    d = 0\n",
    "    e = 0\n",
    "    while d == 0:\n",
    "        e += 1\n",
    "        d = e\n",
    "        if d % a == 0:\n",
    "            if d % b == 0:\n",
    "                print(d)\n",
    "            else:\n",
    "                d = 0\n",
    "        else:\n",
    "            d = 0"
   ]
  },
  {
   "cell_type": "code",
   "execution_count": 9,
   "id": "e508048d",
   "metadata": {},
   "outputs": [
    {
     "name": "stdout",
     "output_type": "stream",
     "text": [
      "6\n"
     ]
    }
   ],
   "source": [
    "my_function(2, 3)"
   ]
  },
  {
   "cell_type": "markdown",
   "id": "eba798e1",
   "metadata": {},
   "source": [
    "## 2.2 <font color='green'>break, continue</font>\n",
    "**break** - оператор завершения цикла"
   ]
  },
  {
   "cell_type": "code",
   "execution_count": null,
   "id": "b52d8a2f",
   "metadata": {},
   "outputs": [],
   "source": [
    "i = 0\n",
    "while i < 5:\n",
    "    a, b = input().split()\n",
    "    a = int(a)\n",
    "    b = int(b)\n",
    "    if (a==0)and(b==0):\n",
    "        break\n",
    "    print(a*b)\n",
    "    i += 1\n",
    "else:\n",
    "    print('Выведено пять чисел!')"
   ]
  },
  {
   "cell_type": "markdown",
   "id": "ac1924b5",
   "metadata": {},
   "source": [
    "**continue** - оператор перехода к следующей итерации цикла"
   ]
  },
  {
   "cell_type": "code",
   "execution_count": 10,
   "id": "f939e8bd",
   "metadata": {},
   "outputs": [
    {
     "name": "stdout",
     "output_type": "stream",
     "text": [
      "5 1\n",
      "5\n",
      "5 1\n",
      "5\n",
      "5 1\n",
      "5\n",
      "5 1\n",
      "5\n",
      "5 0\n",
      "5 1\n",
      "5\n",
      "Выведено пять чисел!\n"
     ]
    }
   ],
   "source": [
    "i = 0\n",
    "while i < 5:\n",
    "    a, b = input().split()\n",
    "    a = int(a)\n",
    "    b = int(b)\n",
    "    if (a==0) and (b==0):\n",
    "        break\n",
    "    if (a==0) or (b==0):\n",
    "        continue\n",
    "    print(a*b)\n",
    "    i += 1\n",
    "else:\n",
    "    print('Выведено пять чисел!')"
   ]
  },
  {
   "cell_type": "markdown",
   "id": "0e02380a",
   "metadata": {},
   "source": [
    "**Задача №2.2.4** Напишите программу, которая считывает целые числа с консоли по одному числу в строке.\n",
    "\n",
    "Для каждого введённого числа проверить:\n",
    "если число меньше 10, то пропускаем это число;\n",
    "если число больше 100, то прекращаем считывать числа;\n",
    "в остальных случаях вывести это число обратно на консоль в отдельной строке."
   ]
  },
  {
   "cell_type": "code",
   "execution_count": 15,
   "id": "70a6493b",
   "metadata": {},
   "outputs": [
    {
     "name": "stdout",
     "output_type": "stream",
     "text": [
      "20\n",
      "20\n",
      "5\n",
      "999\n"
     ]
    }
   ],
   "source": [
    "i = 0\n",
    "while i != 1:\n",
    "    a = int(input())\n",
    "    if a > 100:\n",
    "        break\n",
    "    if a < 10:\n",
    "        continue\n",
    "    print(a)"
   ]
  },
  {
   "cell_type": "markdown",
   "id": "fb998741",
   "metadata": {},
   "source": [
    "## 2.3 Цикл <font color='green'>for</font>"
   ]
  },
  {
   "cell_type": "code",
   "execution_count": 1,
   "id": "b4183fa3",
   "metadata": {
    "ExecuteTime": {
     "end_time": "2022-09-07T08:57:28.074675Z",
     "start_time": "2022-09-07T08:57:28.062676Z"
    }
   },
   "outputs": [
    {
     "name": "stdout",
     "output_type": "stream",
     "text": [
      "4\n",
      "9\n",
      "25\n"
     ]
    }
   ],
   "source": [
    "for i in 2, 3, 5:\n",
    "    print(i*i)"
   ]
  },
  {
   "cell_type": "code",
   "execution_count": 19,
   "id": "d4b43ed0",
   "metadata": {},
   "outputs": [
    {
     "name": "stdout",
     "output_type": "stream",
     "text": [
      "0\n",
      "1\n",
      "4\n"
     ]
    }
   ],
   "source": [
    "for i in range(3):\n",
    "    print(i*i)"
   ]
  },
  {
   "cell_type": "code",
   "execution_count": 20,
   "id": "64343c29",
   "metadata": {},
   "outputs": [
    {
     "name": "stdout",
     "output_type": "stream",
     "text": [
      "1\n",
      "4\n"
     ]
    }
   ],
   "source": [
    "for i in range(1, 3):\n",
    "    print(i*i)"
   ]
  },
  {
   "cell_type": "code",
   "execution_count": 23,
   "id": "f438eccf",
   "metadata": {},
   "outputs": [
    {
     "name": "stdout",
     "output_type": "stream",
     "text": [
      "0\n",
      "25\n",
      "50\n",
      "75\n"
     ]
    }
   ],
   "source": [
    "for i in range(0, 100, 25):\n",
    "    print(i)"
   ]
  },
  {
   "cell_type": "markdown",
   "id": "247da087",
   "metadata": {},
   "source": [
    "Вывести квадрат из звёздочек *"
   ]
  },
  {
   "cell_type": "code",
   "execution_count": 27,
   "id": "c7636dc4",
   "metadata": {},
   "outputs": [
    {
     "name": "stdout",
     "output_type": "stream",
     "text": [
      "5\n",
      "*****\n",
      "*****\n",
      "*****\n",
      "*****\n",
      "*****\n"
     ]
    }
   ],
   "source": [
    "n = int(input())\n",
    "for i in range(n):\n",
    "    print(n*'*')"
   ]
  },
  {
   "cell_type": "code",
   "execution_count": 30,
   "id": "6ac4ec21",
   "metadata": {},
   "outputs": [
    {
     "name": "stdout",
     "output_type": "stream",
     "text": [
      "5\n",
      "*****\n",
      "*****\n",
      "*****\n",
      "*****\n",
      "*****\n"
     ]
    }
   ],
   "source": [
    "n = int(input())\n",
    "for i in range(n):\n",
    "    for j in range(n):\n",
    "        print('*', end='')\n",
    "    print()"
   ]
  },
  {
   "cell_type": "markdown",
   "id": "4c7f64cc",
   "metadata": {},
   "source": [
    "**Задача №2.3.3** Когда Павел учился в школе, он запоминал таблицу умножения прямоугольными блоками. Для тренировок ему бы очень пригодилась программа, которая показывала бы блок таблицы умножения.\n",
    "\n",
    "Напишите программу, на вход которой даются четыре числа a, b, c и d, каждое в своей строке. Программа должна вывести фрагмент таблицы умножения для всех чисел отрезка [a; b][a;b] на все числа отрезка [c;d][c;d].\n",
    "\n",
    "Числа a, b, c и d являются натуральными и не превосходят 10, a≤b, c≤d.\n",
    "\n",
    "Следуйте формату вывода из примера, для разделения элементов внутри строки используйте '\\t' — символ табуляции. Заметьте, что левым столбцом и верхней строкой выводятся сами числа из заданных отрезков — заголовочные столбец и строка таблицы."
   ]
  },
  {
   "cell_type": "code",
   "execution_count": 220,
   "id": "ae85ef3b",
   "metadata": {},
   "outputs": [
    {
     "name": "stdout",
     "output_type": "stream",
     "text": [
      "\t\t5\t6\t7\t8\t9\t10\n",
      "1\t\t5\t6\t7\t8\t9\t10\n",
      "2\t\t10\t12\t14\t16\t18\t20\n",
      "3\t\t15\t18\t21\t24\t27\t30\n",
      "4\t\t20\t24\t28\t32\t36\t40\n",
      "5\t\t25\t30\t35\t40\t45\t50\n"
     ]
    }
   ],
   "source": [
    "# 1 - способ\n",
    "a = int(input())\n",
    "b = int(input())\n",
    "c = int(input())\n",
    "d = int(input())\n",
    "\n",
    "if c==d:\n",
    "    print('\\t',c)\n",
    "    for i in range(a, b+1):\n",
    "        for j in range(1):\n",
    "            print(i, end='')       \n",
    "        print('\\t',i*c)\n",
    "else:\n",
    "    print('\\t',*list(range(c, d+1)), sep='\\t')\n",
    "    for i in range(a, b+1):\n",
    "        for j in range(1):\n",
    "            print(i, end='')       \n",
    "        print('\\t',*list(range(c*i, (d+1)*i, i)), sep='\\t')"
   ]
  },
  {
   "cell_type": "code",
   "execution_count": 235,
   "id": "e7160cf0",
   "metadata": {},
   "outputs": [
    {
     "name": "stdout",
     "output_type": "stream",
     "text": [
      "1\n",
      "2\n",
      "3\n",
      "4\n",
      "\t\t3\t4\n",
      "1\t3\t4\n",
      "2\t6\t8\n"
     ]
    }
   ],
   "source": [
    "# 2 - способ - прощё, но \"кривой\", со съехавшей таблицей на один Tab.\n",
    "a=int(input())\n",
    "b=int(input())\n",
    "c=int(input())\n",
    "d=int(input())\n",
    "\n",
    "print('\\t',*list(range(c, d+1)), sep='\\t')\n",
    "for i in range(a,b+1):\n",
    "    print(i, *range(i*c,(i*d)+1, i), sep='\\t')"
   ]
  },
  {
   "cell_type": "markdown",
   "id": "ef036ae0",
   "metadata": {},
   "source": [
    "**Пункт.Видео №2.3.4** Задача на вывод суммы всех нечётных чисел от \"a\" до \"b\" (включая обе границы) с помощью цикла **for**"
   ]
  },
  {
   "cell_type": "code",
   "execution_count": 24,
   "id": "ef82eba0",
   "metadata": {},
   "outputs": [
    {
     "name": "stdout",
     "output_type": "stream",
     "text": [
      "5 9\n"
     ]
    },
    {
     "data": {
      "text/plain": [
       "21"
      ]
     },
     "execution_count": 24,
     "metadata": {},
     "output_type": "execute_result"
    }
   ],
   "source": [
    "# 1 - способ\n",
    "a, b = input().split()\n",
    "a = int(a)\n",
    "b = int(b)\n",
    "s = 0\n",
    "for i in range(a, b+1):\n",
    "    if i % 2 == 1:\n",
    "        s += i\n",
    "s"
   ]
  },
  {
   "cell_type": "code",
   "execution_count": 23,
   "id": "a7745854",
   "metadata": {},
   "outputs": [
    {
     "name": "stdout",
     "output_type": "stream",
     "text": [
      "5 9\n"
     ]
    },
    {
     "data": {
      "text/plain": [
       "21"
      ]
     },
     "execution_count": 23,
     "metadata": {},
     "output_type": "execute_result"
    }
   ],
   "source": [
    "# 2 - способ: проверка на чётность числа перед циклом\n",
    "a, b = input().split()\n",
    "a = int(a)\n",
    "b = int(b)\n",
    "s = 0\n",
    "if i % 2 == 0:\n",
    "    a += 1\n",
    "for i in range(a, b+1, 2): # пройти числа от \"a\" до \"b+1\" с шагом 2\n",
    "    s += i\n",
    "s"
   ]
  },
  {
   "cell_type": "markdown",
   "id": "a8ee6fa5",
   "metadata": {},
   "source": [
    "3 - способ: цикл с вводом данных: **list comprehension**"
   ]
  },
  {
   "cell_type": "code",
   "execution_count": 29,
   "id": "a9b39cb6",
   "metadata": {},
   "outputs": [
    {
     "name": "stdout",
     "output_type": "stream",
     "text": [
      "5 9\n"
     ]
    },
    {
     "data": {
      "text/plain": [
       "21"
      ]
     },
     "execution_count": 29,
     "metadata": {},
     "output_type": "execute_result"
    }
   ],
   "source": [
    "# 3 - способ: цикл с вводом данных:  list comprehension \n",
    "a, b = (int(i) for i in input().split()) # применяем ф-ю int() для каждого i вводимого с клавиатуры\n",
    "s = 0 \n",
    "if i % 2 == 0:\n",
    "    a += 1\n",
    "for i in range(a, b+1, 2): # пройти числа от \"a\" до \"b+1\" с шагом 2\n",
    "    s += i\n",
    "s"
   ]
  },
  {
   "cell_type": "markdown",
   "id": "12c73ce7",
   "metadata": {},
   "source": [
    "**Задача №2.3.7** Напишите программу, которая считывает с клавиатуры два числа a и b, считает и выводит на консоль среднее арифметическое всех чисел из отрезка [a;b], которые кратны числу 3.\n",
    "\n",
    "В приведенном ниже примере среднее арифметическое считается для чисел на отрезке [−5;12]. Всего чисел, делящихся на 3, на этом отрезке 6: −3,0,3,6,9,12. Их среднее арифметическое равно 4.5\n",
    "\n",
    "На вход программе подаются интервалы, внутри которых всегда есть хотя бы одно число, которое делится на 3."
   ]
  },
  {
   "cell_type": "code",
   "execution_count": 33,
   "id": "2ed68b9c",
   "metadata": {},
   "outputs": [
    {
     "data": {
      "text/plain": [
       "27"
      ]
     },
     "execution_count": 33,
     "metadata": {},
     "output_type": "execute_result"
    }
   ],
   "source": [
    "-3+0+3+6+9+12"
   ]
  },
  {
   "cell_type": "code",
   "execution_count": 34,
   "id": "b90beb3c",
   "metadata": {},
   "outputs": [
    {
     "data": {
      "text/plain": [
       "4.5"
      ]
     },
     "execution_count": 34,
     "metadata": {},
     "output_type": "execute_result"
    }
   ],
   "source": [
    "27/6"
   ]
  },
  {
   "cell_type": "code",
   "execution_count": 59,
   "id": "df79e984",
   "metadata": {},
   "outputs": [
    {
     "name": "stdout",
     "output_type": "stream",
     "text": [
      "-3 \n",
      "12\n",
      "-3\n",
      "-2\n",
      "-1\n",
      "0\n",
      "1\n",
      "2\n",
      "3\n",
      "4\n",
      "5\n",
      "6\n",
      "7\n",
      "8\n",
      "9\n",
      "10\n",
      "11\n",
      "12\n",
      "4.5\n"
     ]
    }
   ],
   "source": [
    "a, b = input().split()\n",
    "a = int(a)\n",
    "b = int(b)\n",
    "c = 0\n",
    "s = 0\n",
    "for i in range(a, b+1):\n",
    "    if i % 3 == 0:\n",
    "        s += i\n",
    "        c += 1\n",
    "print(s/c)"
   ]
  },
  {
   "cell_type": "code",
   "execution_count": 57,
   "id": "ab2fc3f1",
   "metadata": {},
   "outputs": [
    {
     "data": {
      "text/plain": [
       "14"
      ]
     },
     "execution_count": 57,
     "metadata": {},
     "output_type": "execute_result"
    }
   ],
   "source": [
    "len(range(1,15))"
   ]
  },
  {
   "cell_type": "markdown",
   "id": "bb0ae618",
   "metadata": {},
   "source": [
    "## 2.4 Строки и символы"
   ]
  },
  {
   "cell_type": "markdown",
   "id": "ca0edd5b",
   "metadata": {},
   "source": [
    "**Пункт.Видео №2.4.1**"
   ]
  },
  {
   "cell_type": "code",
   "execution_count": 70,
   "id": "c43e6064",
   "metadata": {},
   "outputs": [],
   "source": [
    "genome = 'ATGG'"
   ]
  },
  {
   "cell_type": "code",
   "execution_count": 67,
   "id": "fa769b93",
   "metadata": {},
   "outputs": [
    {
     "name": "stdout",
     "output_type": "stream",
     "text": [
      "A T G G\n",
      "T\n",
      "G\n",
      "G\n"
     ]
    }
   ],
   "source": [
    "print(genome[0],genome[1],genome[2],genome[3])\n",
    "print(genome[1])\n",
    "print(genome[2])\n",
    "print(genome[3])"
   ]
  },
  {
   "cell_type": "code",
   "execution_count": 68,
   "id": "04293a17",
   "metadata": {},
   "outputs": [
    {
     "name": "stdout",
     "output_type": "stream",
     "text": [
      "G G T A\n",
      "G\n",
      "T\n",
      "A\n"
     ]
    }
   ],
   "source": [
    "print(genome[-1],genome[-2],genome[-3],genome[-4])\n",
    "print(genome[-2])\n",
    "print(genome[-3])\n",
    "print(genome[-4])"
   ]
  },
  {
   "cell_type": "code",
   "execution_count": 69,
   "id": "35bd1815",
   "metadata": {},
   "outputs": [
    {
     "data": {
      "text/plain": [
       "'T'"
      ]
     },
     "execution_count": 69,
     "metadata": {},
     "output_type": "execute_result"
    }
   ],
   "source": [
    "i = 1\n",
    "genome[i]"
   ]
  },
  {
   "cell_type": "markdown",
   "id": "5a656f8f",
   "metadata": {},
   "source": [
    "Перечисление символов строки с помощью цикла **for**"
   ]
  },
  {
   "cell_type": "code",
   "execution_count": 79,
   "id": "e89a1f8a",
   "metadata": {},
   "outputs": [
    {
     "name": "stdout",
     "output_type": "stream",
     "text": [
      "A T G G "
     ]
    }
   ],
   "source": [
    "for i in range(4):\n",
    "    print(genome[i], end=' ')"
   ]
  },
  {
   "cell_type": "code",
   "execution_count": 77,
   "id": "4c0c6122",
   "metadata": {},
   "outputs": [
    {
     "name": "stdout",
     "output_type": "stream",
     "text": [
      "A T G G "
     ]
    }
   ],
   "source": [
    "for i in genome:\n",
    "    print(i, end=' ')"
   ]
  },
  {
   "cell_type": "markdown",
   "id": "85bbbc21",
   "metadata": {},
   "source": [
    "Задача - цитозин:G. Сколько раз встречается C в строке CACCTGGAC"
   ]
  },
  {
   "cell_type": "code",
   "execution_count": 80,
   "id": "478a8392",
   "metadata": {},
   "outputs": [
    {
     "name": "stdout",
     "output_type": "stream",
     "text": [
      "CACCTGGAC\n"
     ]
    },
    {
     "data": {
      "text/plain": [
       "4"
      ]
     },
     "execution_count": 80,
     "metadata": {},
     "output_type": "execute_result"
    }
   ],
   "source": [
    "# 1 - способ\n",
    "genome = input()\n",
    "cnt = 0\n",
    "for i in genome:\n",
    "    if i == 'C':\n",
    "        cnt += 1\n",
    "cnt   "
   ]
  },
  {
   "cell_type": "code",
   "execution_count": 87,
   "id": "771a97b0",
   "metadata": {},
   "outputs": [
    {
     "name": "stdout",
     "output_type": "stream",
     "text": [
      "CACCTGGAC\n",
      "4\n"
     ]
    }
   ],
   "source": [
    "# 2 - способ с count()\n",
    "genome = input()\n",
    "print(genome.count('C'))"
   ]
  },
  {
   "cell_type": "markdown",
   "id": "6f37eea7",
   "metadata": {},
   "source": [
    "**Пункт.Видео №2.4.2**"
   ]
  },
  {
   "attachments": {
    "image.png": {
     "image/png": "[encoded data removed]"
    }
   },
   "cell_type": "markdown",
   "id": "598436a8",
   "metadata": {},
   "source": [
    "![image.png](attachment:image.png)"
   ]
  },
  {
   "cell_type": "code",
   "execution_count": 88,
   "id": "854176db",
   "metadata": {},
   "outputs": [],
   "source": [
    "s = 'AtGG'"
   ]
  },
  {
   "cell_type": "code",
   "execution_count": 89,
   "id": "1ee72e94",
   "metadata": {},
   "outputs": [
    {
     "data": {
      "text/plain": [
       "'Atff'"
      ]
     },
     "execution_count": 89,
     "metadata": {},
     "output_type": "execute_result"
    }
   ],
   "source": [
    "s.replace('G', 'f')"
   ]
  },
  {
   "cell_type": "markdown",
   "id": "0d744da3",
   "metadata": {},
   "source": [
    "Последовательные вызовы методов"
   ]
  },
  {
   "cell_type": "code",
   "execution_count": 91,
   "id": "720b8b10",
   "metadata": {},
   "outputs": [],
   "source": [
    "s = 'agTtcAGtc'"
   ]
  },
  {
   "cell_type": "code",
   "execution_count": null,
   "id": "382fd47f",
   "metadata": {},
   "outputs": [],
   "source": [
    "s.upper().count('gt'.upper()) # сколько раз встретиться <'gt'.upper()>"
   ]
  },
  {
   "cell_type": "markdown",
   "id": "8e597aa9",
   "metadata": {},
   "source": [
    "**Пункт.Видео №2.4.3**"
   ]
  },
  {
   "cell_type": "markdown",
   "id": "0f26a700",
   "metadata": {},
   "source": [
    "Напишите программу, которая вычисляет процентное содержание символов G (гуанин) и C (цитозин) в введенной строке (программа не должна зависеть от регистра вводимых символов).\n",
    "\n",
    "Например, в строке \"acggtgttat\" процентное содержание символов G и C равно \\dfrac4{10} \\cdot 100 = 40.0 \n",
    "10\n",
    "4\n",
    "​\n",
    " ⋅100=40.0, где 4 -- это количество символов G и C,  а 10 -- это длина строки."
   ]
  },
  {
   "cell_type": "code",
   "execution_count": null,
   "id": "ab17b3c5",
   "metadata": {},
   "outputs": [],
   "source": [
    "acggtgttat"
   ]
  },
  {
   "cell_type": "code",
   "execution_count": 102,
   "id": "3fc8ad4e",
   "metadata": {},
   "outputs": [
    {
     "name": "stdout",
     "output_type": "stream",
     "text": [
      "acggtgttat\n",
      "40.0\n"
     ]
    }
   ],
   "source": [
    "genome = input()\n",
    "print(100*(genome.upper().count('G') + genome.upper().count('C'))/len(genome))"
   ]
  },
  {
   "cell_type": "code",
   "execution_count": 105,
   "id": "3a953a85",
   "metadata": {},
   "outputs": [
    {
     "data": {
      "text/plain": [
       "'tattgtggca'"
      ]
     },
     "execution_count": 105,
     "metadata": {},
     "output_type": "execute_result"
    }
   ],
   "source": [
    "genome[::-1] # символы в обратном порядке"
   ]
  },
  {
   "cell_type": "markdown",
   "id": "3b6181b3",
   "metadata": {},
   "source": [
    "**Задача №2.4.4** - палиндром\n",
    "Строка считается палиндромом, если она читается: слево - направо, и справа - налево, - одинаково.   afgdcdgfa"
   ]
  },
  {
   "cell_type": "code",
   "execution_count": 167,
   "id": "1e6bfde4",
   "metadata": {},
   "outputs": [
    {
     "name": "stdout",
     "output_type": "stream",
     "text": [
      "asdsa\n",
      "YES\n"
     ]
    }
   ],
   "source": [
    "# 1 - способ\n",
    "s = input() # программа палиндром для нечетных чиел \"моя версия\"\n",
    "sr = len(s)//2\n",
    "sr_ = (len(s)//2 + 1)*(-1)\n",
    "if len(s) % 2 == 1:\n",
    "    if s[0:sr] == s[sr_-1::-1][::-1]: # разворачиваем вторую часть строки после \"серединного\" значения\n",
    "        print('YES')\n",
    "    else:\n",
    "        print('NO')\n",
    "else:\n",
    "    print('NO')"
   ]
  },
  {
   "cell_type": "code",
   "execution_count": 171,
   "id": "9ca39bb0",
   "metadata": {},
   "outputs": [
    {
     "name": "stdout",
     "output_type": "stream",
     "text": [
      "asdsa\n",
      "YES\n"
     ]
    }
   ],
   "source": [
    "# 2 - способ\n",
    "s = input()\n",
    "i = 0\n",
    "j = len(s) - 1\n",
    "is_palindrom = True\n",
    "while i<j:\n",
    "    if s[i] != s[j]:\n",
    "        is_palindrom = False\n",
    "    i += 1\n",
    "    j -= 1\n",
    "if is_palindrom: # !! ВАЖНО!! Если(if) значение осталось <True>(if is_palindrom==True:), то... (также как с while!)\n",
    "    print('YES')\n",
    "else:\n",
    "    print('NO')"
   ]
  },
  {
   "cell_type": "code",
   "execution_count": null,
   "id": "9176d91e",
   "metadata": {},
   "outputs": [],
   "source": [
    "# 3 - способ\n",
    "s = input()\n",
    "r = s[::-1]\n",
    "if s==r: # !здесь используем дополнительную память, например если используется большая строка\n",
    "    print('YES')\n",
    "else:\n",
    "    print('NO')"
   ]
  },
  {
   "cell_type": "markdown",
   "id": "2489c43a",
   "metadata": {},
   "source": [
    "**Задача №2.4.7** Кодирование осуществляется следующим образом:\n",
    "s = 'aaaabbсaa' преобразуется в 'a4b2с1a2'"
   ]
  },
  {
   "cell_type": "code",
   "execution_count": null,
   "id": "6092ca0c",
   "metadata": {},
   "outputs": [],
   "source": [
    "aaaabbсaa"
   ]
  },
  {
   "cell_type": "code",
   "execution_count": 99,
   "id": "a0be1d86",
   "metadata": {},
   "outputs": [
    {
     "name": "stdout",
     "output_type": "stream",
     "text": [
      "aaaabbсaaf\n"
     ]
    },
    {
     "data": {
      "text/plain": [
       "'aaaabbсaaf'"
      ]
     },
     "execution_count": 99,
     "metadata": {},
     "output_type": "execute_result"
    }
   ],
   "source": [
    "s = input()\n",
    "s\n",
    "# k = ''.join(x for x in s)   - обратно в строку"
   ]
  },
  {
   "cell_type": "code",
   "execution_count": 26,
   "id": "4f714a40",
   "metadata": {},
   "outputs": [],
   "source": [
    "# пополняем список побуквенно\n",
    "ls = []\n",
    "ls.append(s[0])"
   ]
  },
  {
   "cell_type": "code",
   "execution_count": 105,
   "id": "719493d6",
   "metadata": {},
   "outputs": [
    {
     "name": "stdout",
     "output_type": "stream",
     "text": [
      "a4b2с1a2f1\n"
     ]
    }
   ],
   "source": [
    "# 1 - способ\n",
    "s = input()\n",
    "i=0    \n",
    "ls = [] \n",
    "ct=1\n",
    "while i < len(s)-1:\n",
    "    if s[i]==s[i+1]:\n",
    "        ct+=1\n",
    "        i+=1   \n",
    "    elif s[i] != s[i+1]:\n",
    "        ls.append(s[i])\n",
    "        ls.append(str(ct))\n",
    "        ct=1 \n",
    "        i+=1\n",
    "        continue\n",
    "else:\n",
    "    ls.append(s[i])\n",
    "    ls.append(str(ct))\n",
    "print(''.join(x for x in ls))"
   ]
  },
  {
   "cell_type": "code",
   "execution_count": 106,
   "id": "9f619d62",
   "metadata": {},
   "outputs": [],
   "source": [
    "# То действие, которые является особым, т.е. прекращается последовательность - можно обрабатывать в условии. \n",
    "# А накручивать счётчик при прохождении символов - это \"нормальное\" поведение программы, \n",
    "# поэтому его можно выполнять без дополнительных условных блоков.\n",
    "\n",
    "# 2 - способ\n",
    "genome = input()+' '\n",
    "s = 0\n",
    "n=genome[0]\n",
    "for i in genome:       \n",
    "    if n!=i:\n",
    "        print(n + str(s), end = '')\n",
    "        s=0\n",
    "        n=i\n",
    "    s+=1"
   ]
  },
  {
   "cell_type": "markdown",
   "id": "696c93df",
   "metadata": {},
   "source": [
    "## 2.5  Списки"
   ]
  },
  {
   "cell_type": "markdown",
   "id": "6cd8c344",
   "metadata": {},
   "source": [
    "**Пункт.Видео №2.5.2 Вставка элементов в список**"
   ]
  },
  {
   "cell_type": "code",
   "execution_count": 3,
   "id": "e48d73cf",
   "metadata": {},
   "outputs": [],
   "source": [
    "students = ['Ivan', 'Olga', 'Egor']"
   ]
  },
  {
   "cell_type": "code",
   "execution_count": 4,
   "id": "31d49934",
   "metadata": {},
   "outputs": [
    {
     "data": {
      "text/plain": [
       "['Masha', 'Ivan', 'Olga', 'Egor']"
      ]
     },
     "execution_count": 4,
     "metadata": {},
     "output_type": "execute_result"
    }
   ],
   "source": [
    "# метод .insert(idx, ' ')\n",
    "students.insert(0, 'Masha') # элементы которые стояли \"правее\", сдвинулись на один эл-т\n",
    "students   "
   ]
  },
  {
   "cell_type": "code",
   "execution_count": 5,
   "id": "b026a70f",
   "metadata": {},
   "outputs": [],
   "source": [
    "students = ['Ivan', 'Masha', 'Sasha']"
   ]
  },
  {
   "cell_type": "code",
   "execution_count": 6,
   "id": "0df53d73",
   "metadata": {},
   "outputs": [],
   "source": [
    "students += ['Olga']"
   ]
  },
  {
   "cell_type": "code",
   "execution_count": 7,
   "id": "f12d0698",
   "metadata": {},
   "outputs": [
    {
     "data": {
      "text/plain": [
       "['Ivan', 'Masha', 'Sasha', 'Olga']"
      ]
     },
     "execution_count": 7,
     "metadata": {},
     "output_type": "execute_result"
    }
   ],
   "source": [
    "students"
   ]
  },
  {
   "cell_type": "code",
   "execution_count": 8,
   "id": "1d5b2f11",
   "metadata": {},
   "outputs": [],
   "source": [
    "students += 'Olga'"
   ]
  },
  {
   "cell_type": "code",
   "execution_count": 9,
   "id": "7528df49",
   "metadata": {},
   "outputs": [
    {
     "data": {
      "text/plain": [
       "['Ivan', 'Masha', 'Sasha', 'Olga', 'O', 'l', 'g', 'a']"
      ]
     },
     "execution_count": 9,
     "metadata": {},
     "output_type": "execute_result"
    }
   ],
   "source": [
    "students"
   ]
  },
  {
   "cell_type": "markdown",
   "id": "0f949646",
   "metadata": {},
   "source": [
    "**Пункт.Видео №2.5.4 Удаление элемента из списка**"
   ]
  },
  {
   "cell_type": "code",
   "execution_count": null,
   "id": "04270581",
   "metadata": {},
   "outputs": [],
   "source": [
    "# метод .remove('Sasha') - Удаляет только первый элемент списка"
   ]
  },
  {
   "cell_type": "code",
   "execution_count": 17,
   "id": "e60f2790",
   "metadata": {},
   "outputs": [
    {
     "data": {
      "text/plain": [
       "['Ivan', 'Masha', 'Sasha', 'Sasha']"
      ]
     },
     "execution_count": 17,
     "metadata": {},
     "output_type": "execute_result"
    }
   ],
   "source": [
    "students = ['Ivan', 'Sasha', 'Masha', 'Sasha', 'Egor']\n",
    "students.remove('Sasha')\n",
    "students"
   ]
  },
  {
   "cell_type": "code",
   "execution_count": null,
   "id": "2173a055",
   "metadata": {},
   "outputs": [],
   "source": [
    "# del students[0]"
   ]
  },
  {
   "cell_type": "code",
   "execution_count": 13,
   "id": "f87a97b3",
   "metadata": {},
   "outputs": [
    {
     "data": {
      "text/plain": [
       "['Sasha', 'Masha', 'Sasha', 'Sasha']"
      ]
     },
     "execution_count": 13,
     "metadata": {},
     "output_type": "execute_result"
    }
   ],
   "source": [
    "students = ['Ivan', 'Sasha', 'Masha', 'Sasha', 'Egor']\n",
    "del students[0]\n",
    "students"
   ]
  },
  {
   "cell_type": "markdown",
   "id": "25034c36",
   "metadata": {},
   "source": [
    "**Поиск элемента в списке**"
   ]
  },
  {
   "cell_type": "code",
   "execution_count": 19,
   "id": "117de70a",
   "metadata": {},
   "outputs": [
    {
     "name": "stdout",
     "output_type": "stream",
     "text": [
      "Ivan is here!\n",
      "Anna is out!\n"
     ]
    }
   ],
   "source": [
    "students = ['Ivan', 'Sasha', 'Masha']\n",
    "if 'Ivan' in students:\n",
    "    print('Ivan is here!')\n",
    "if 'Anna' not in students:\n",
    "    print('Anna is out!')"
   ]
  },
  {
   "cell_type": "markdown",
   "id": "dd1617f7",
   "metadata": {},
   "source": [
    "**Проверка индекса элемента**"
   ]
  },
  {
   "cell_type": "code",
   "execution_count": 21,
   "id": "718770f7",
   "metadata": {},
   "outputs": [
    {
     "data": {
      "text/plain": [
       "1"
      ]
     },
     "execution_count": 21,
     "metadata": {},
     "output_type": "execute_result"
    }
   ],
   "source": [
    "idx = students.index('Sasha') # метод .index\n",
    "idx"
   ]
  },
  {
   "cell_type": "markdown",
   "id": "62ac7b88",
   "metadata": {},
   "source": [
    "**Сортировка списка**"
   ]
  },
  {
   "cell_type": "code",
   "execution_count": 30,
   "id": "d79acd01",
   "metadata": {},
   "outputs": [
    {
     "data": {
      "text/plain": [
       "['Egor', 'Ivan', 'Olga']"
      ]
     },
     "execution_count": 30,
     "metadata": {},
     "output_type": "execute_result"
    }
   ],
   "source": [
    "students = ['Ivan', 'Olga', 'Egor']\n",
    "sorted(students)"
   ]
  },
  {
   "cell_type": "code",
   "execution_count": null,
   "id": "d9b4c223",
   "metadata": {},
   "outputs": [],
   "source": [
    "# Изменяем сам список методом .sort"
   ]
  },
  {
   "cell_type": "code",
   "execution_count": 26,
   "id": "c1c3f819",
   "metadata": {},
   "outputs": [
    {
     "data": {
      "text/plain": [
       "['Egor', 'Ivan', 'Olga']"
      ]
     },
     "execution_count": 26,
     "metadata": {},
     "output_type": "execute_result"
    }
   ],
   "source": [
    "students.sort()\n",
    "students"
   ]
  },
  {
   "cell_type": "code",
   "execution_count": 34,
   "id": "2063dc5c",
   "metadata": {},
   "outputs": [
    {
     "data": {
      "text/plain": [
       "'Egor'"
      ]
     },
     "execution_count": 34,
     "metadata": {},
     "output_type": "execute_result"
    }
   ],
   "source": [
    "students = ['Ivan', 'Olga', 'Egor']\n",
    "min(students) # возвращает минимальное зн-е в списке по алфавиту"
   ]
  },
  {
   "cell_type": "code",
   "execution_count": 36,
   "id": "7e06326c",
   "metadata": {},
   "outputs": [
    {
     "data": {
      "text/plain": [
       "'Olga'"
      ]
     },
     "execution_count": 36,
     "metadata": {},
     "output_type": "execute_result"
    }
   ],
   "source": [
    "max(students) # возвращает максимальное зн-е в списке по алфавиту "
   ]
  },
  {
   "cell_type": "markdown",
   "id": "af32348c",
   "metadata": {},
   "source": [
    "**Список в обратном порядке**"
   ]
  },
  {
   "cell_type": "code",
   "execution_count": 38,
   "id": "39c62861",
   "metadata": {},
   "outputs": [
    {
     "data": {
      "text/plain": [
       "['Egor', 'Olga', 'Ivan']"
      ]
     },
     "execution_count": 38,
     "metadata": {},
     "output_type": "execute_result"
    }
   ],
   "source": [
    "students = ['Ivan', 'Olga', 'Egor']\n",
    "students.reverse() # аналогично students[::-1]\n",
    "students"
   ]
  },
  {
   "cell_type": "markdown",
   "id": "8e23d7f1",
   "metadata": {},
   "source": [
    "**Генерация списков**"
   ]
  },
  {
   "cell_type": "code",
   "execution_count": 66,
   "id": "7e9c4fa5",
   "metadata": {},
   "outputs": [
    {
     "data": {
      "text/plain": [
       "[0, 0, 0, 0, 0]"
      ]
     },
     "execution_count": 66,
     "metadata": {},
     "output_type": "execute_result"
    }
   ],
   "source": [
    "a = [0]*5\n",
    "a"
   ]
  },
  {
   "cell_type": "code",
   "execution_count": 67,
   "id": "963ef02b",
   "metadata": {},
   "outputs": [
    {
     "data": {
      "text/plain": [
       "[0, 0, 0, 0, 0]"
      ]
     },
     "execution_count": 67,
     "metadata": {},
     "output_type": "execute_result"
    }
   ],
   "source": [
    "a = [0 for i in range(5)] # list comprehensions\n",
    "a"
   ]
  },
  {
   "cell_type": "code",
   "execution_count": 68,
   "id": "71bffcc6",
   "metadata": {},
   "outputs": [
    {
     "data": {
      "text/plain": [
       "[0, 1, 4, 9, 16]"
      ]
     },
     "execution_count": 68,
     "metadata": {},
     "output_type": "execute_result"
    }
   ],
   "source": [
    "a = [i*i for i in range(5)]\n",
    "a"
   ]
  },
  {
   "cell_type": "code",
   "execution_count": 71,
   "id": "2a38b7d4",
   "metadata": {},
   "outputs": [
    {
     "name": "stdout",
     "output_type": "stream",
     "text": [
      "7 5 4 6 9 8\n"
     ]
    },
    {
     "data": {
      "text/plain": [
       "[7, 5, 4, 6, 9, 8]"
      ]
     },
     "execution_count": 71,
     "metadata": {},
     "output_type": "execute_result"
    }
   ],
   "source": [
    "a = [int(i) for i in input().split()]\n",
    "a"
   ]
  },
  {
   "cell_type": "code",
   "execution_count": 72,
   "id": "593b6c35",
   "metadata": {},
   "outputs": [
    {
     "data": {
      "text/plain": [
       "[0, 1, 2, 3, 4]"
      ]
     },
     "execution_count": 72,
     "metadata": {},
     "output_type": "execute_result"
    }
   ],
   "source": [
    "a = [i for i in range(5)]\n",
    "a"
   ]
  },
  {
   "cell_type": "code",
   "execution_count": 73,
   "id": "cfefb5b8",
   "metadata": {},
   "outputs": [
    {
     "name": "stdout",
     "output_type": "stream",
     "text": [
      "-3 -5 3\n"
     ]
    },
    {
     "data": {
      "text/plain": [
       "-5"
      ]
     },
     "execution_count": 73,
     "metadata": {},
     "output_type": "execute_result"
    }
   ],
   "source": [
    "a = [int(i) for i in input().split()]\n",
    "sum(a)"
   ]
  },
  {
   "cell_type": "markdown",
   "id": "7e978093",
   "metadata": {},
   "source": [
    "**Задача №2.5.9** Напишите программу, на вход которой подается одна строка с целыми числами. Программа должна вывести сумму этих чисел."
   ]
  },
  {
   "cell_type": "code",
   "execution_count": 74,
   "id": "5bd847a7",
   "metadata": {},
   "outputs": [
    {
     "name": "stdout",
     "output_type": "stream",
     "text": [
      "-5 3 2\n"
     ]
    },
    {
     "data": {
      "text/plain": [
       "0"
      ]
     },
     "execution_count": 74,
     "metadata": {},
     "output_type": "execute_result"
    }
   ],
   "source": [
    "sum(int(i) for i in input().split())"
   ]
  },
  {
   "cell_type": "markdown",
   "id": "97441b32",
   "metadata": {},
   "source": [
    "**Задача №2.5.10** Для элементов списка, являющихся крайними, одним из соседей считается элемент, находящий на противоположном конце этого списка. Например, если на вход подаётся список \"1 3 5 6 10\", то на выход ожидается список \"13 6 9 15 7\" (без кавычек).\n",
    "\n",
    "Если на вход пришло только одно число, надо вывести его же."
   ]
  },
  {
   "cell_type": "code",
   "execution_count": 174,
   "id": "224808df",
   "metadata": {},
   "outputs": [
    {
     "name": "stdout",
     "output_type": "stream",
     "text": [
      "1 2 3 4 5\n",
      "7 4 6 8 5\n"
     ]
    }
   ],
   "source": [
    "a = [int(i) for i in input().split()]\n",
    "fs = []\n",
    "i = 0\n",
    "if len(a)==1:\n",
    "    print(a[0])\n",
    "else:\n",
    "    while i < len(a)-1:\n",
    "        fs.append(a[i-1]+a[i+1])\n",
    "        i+=1\n",
    "    fs.append(a[-2]+a[0])\n",
    "    print(' '.join(str(x) for x in fs))"
   ]
  },
  {
   "cell_type": "markdown",
   "id": "f52df6ad",
   "metadata": {},
   "source": [
    "**Задача №2.5.11** Напишите программу, которая принимает на вход список чисел в одной строке и выводит на экран в одну строку значения, которые встречаются в нём более одного раза.\n",
    "\n",
    "Для решения задачи может пригодиться метод sort списка.\n",
    "\n",
    "Выводимые числа не должны повторяться, порядок их вывода может быть произвольным."
   ]
  },
  {
   "cell_type": "code",
   "execution_count": 13,
   "id": "dc70c4b7",
   "metadata": {},
   "outputs": [
    {
     "name": "stdout",
     "output_type": "stream",
     "text": [
      "1 1 1 1 1 2 2 2\n",
      "1 2\n"
     ]
    }
   ],
   "source": [
    "a = [int(i) for i in input().split()]\n",
    "ls=[]\n",
    "for i in a:\n",
    "    if a.count(i) > 1:\n",
    "        ls.append(i)\n",
    "    else:\n",
    "        continue\n",
    "ls = list(set(ls))\n",
    "print(' '.join(str(x) for x in ls))"
   ]
  },
  {
   "cell_type": "markdown",
   "id": "b9a8b71e",
   "metadata": {},
   "source": [
    "### 2.5.12 Двумерные списки"
   ]
  },
  {
   "cell_type": "code",
   "execution_count": 14,
   "id": "7b153392",
   "metadata": {},
   "outputs": [],
   "source": [
    "a = [[1,2,3],[4,5,6],[7,8,9]]"
   ]
  },
  {
   "cell_type": "code",
   "execution_count": 19,
   "id": "b3b89b1a",
   "metadata": {},
   "outputs": [
    {
     "name": "stdout",
     "output_type": "stream",
     "text": [
      "[1, 2, 3]\n",
      "5\n"
     ]
    }
   ],
   "source": [
    "print(a[0])\n",
    "print(a[1][1]) # Можно обратиться к элементу нашего списка"
   ]
  },
  {
   "cell_type": "markdown",
   "id": "d2fc3386",
   "metadata": {},
   "source": [
    "### 2.5.13 Генерация двумерных списков"
   ]
  },
  {
   "cell_type": "code",
   "execution_count": 21,
   "id": "039ff163",
   "metadata": {},
   "outputs": [
    {
     "data": {
      "text/plain": [
       "[[0, 0, 0], [0, 0, 0], [0, 0, 0]]"
      ]
     },
     "execution_count": 21,
     "metadata": {},
     "output_type": "execute_result"
    }
   ],
   "source": [
    "n = 3\n",
    "a = [[0]*n]*n\n",
    "a"
   ]
  },
  {
   "cell_type": "code",
   "execution_count": 24,
   "id": "8eb07da4",
   "metadata": {},
   "outputs": [
    {
     "name": "stdout",
     "output_type": "stream",
     "text": [
      "5\n"
     ]
    }
   ],
   "source": [
    "a[0][0] = 5\n",
    "print(a[0][0])"
   ]
  },
  {
   "cell_type": "code",
   "execution_count": 25,
   "id": "bcbcb781",
   "metadata": {},
   "outputs": [
    {
     "data": {
      "text/plain": [
       "[[5, 0, 0], [5, 0, 0], [5, 0, 0]]"
      ]
     },
     "execution_count": 25,
     "metadata": {},
     "output_type": "execute_result"
    }
   ],
   "source": [
    "a # ошибка!, значение передалось отдельно каждому [0][0] эл-ту из n=3 списков"
   ]
  },
  {
   "cell_type": "code",
   "execution_count": 26,
   "id": "b513703e",
   "metadata": {},
   "outputs": [
    {
     "data": {
      "text/plain": [
       "[[0, 0, 0], [0, 0, 0], [0, 0, 0]]"
      ]
     },
     "execution_count": 26,
     "metadata": {},
     "output_type": "execute_result"
    }
   ],
   "source": [
    "a = [[0]*n for i in range(n)] # правильное создание матрицы\n",
    "a"
   ]
  },
  {
   "cell_type": "code",
   "execution_count": 29,
   "id": "6409fbe6",
   "metadata": {},
   "outputs": [
    {
     "data": {
      "text/plain": [
       "[[5, 0, 0], [0, 0, 0], [0, 0, 0]]"
      ]
     },
     "execution_count": 29,
     "metadata": {},
     "output_type": "execute_result"
    }
   ],
   "source": [
    "a[0][0] = 5 # теперь нет такой ошибки и в матрице явно можно задать значение, потому что\n",
    "a"
   ]
  },
  {
   "cell_type": "code",
   "execution_count": 30,
   "id": "d193f335",
   "metadata": {},
   "outputs": [],
   "source": [
    "# или вложенный конструктор генератора списков:\n",
    "a = [[0 for j in range(n)] for i in range(n)]"
   ]
  },
  {
   "cell_type": "code",
   "execution_count": 31,
   "id": "ab523480",
   "metadata": {},
   "outputs": [
    {
     "data": {
      "text/plain": [
       "[[0, 0, 0], [0, 0, 0], [0, 0, 0]]"
      ]
     },
     "execution_count": 31,
     "metadata": {},
     "output_type": "execute_result"
    }
   ],
   "source": [
    "a"
   ]
  },
  {
   "cell_type": "markdown",
   "id": "d5520c9b",
   "metadata": {},
   "source": [
    "## 2.6 Задачи по материалам недели"
   ]
  },
  {
   "cell_type": "markdown",
   "id": "a649e030",
   "metadata": {},
   "source": [
    "### 2.6.1 Задача№1 Поиск минимума в списке"
   ]
  },
  {
   "cell_type": "code",
   "execution_count": 1,
   "id": "7958296a",
   "metadata": {},
   "outputs": [],
   "source": [
    "def min2(*elements): # * - звёздочка, если передаем функции числа - 2, 3, 5, 8...(множество аргументов)\n",
    "    m = elements[0]  # elements без звёздочки, если передаем функции готовый список lst = [5, 8, 4, 3, 5, 7]\n",
    "    for i in elements:\n",
    "        if i <= m:\n",
    "            m = i\n",
    "    return m"
   ]
  },
  {
   "cell_type": "markdown",
   "id": "9df44728",
   "metadata": {},
   "source": [
    "### 2.6.4 Задача№2 Сапёр"
   ]
  },
  {
   "cell_type": "markdown",
   "id": "5f5cb335",
   "metadata": {},
   "source": [
    "**Даны размеры поля для игры в сапёр и координаты мин, стоящих на этом поле. Вывести поле игры на экран.**"
   ]
  },
  {
   "cell_type": "code",
   "execution_count": 132,
   "id": "608f4692",
   "metadata": {},
   "outputs": [
    {
     "name": "stdout",
     "output_type": "stream",
     "text": [
      "3 3 1\n",
      "1 1\n",
      "*10\n",
      "110\n",
      "000\n"
     ]
    }
   ],
   "source": [
    "n, m, k = (int(i) for i in input().split())  # чтение размеров поля и числа мин\n",
    "a = [[0 for j in range(m)] for i in range(n)]  # заполнение поля нулями\n",
    "for i in range(k):\n",
    "    row, col = (int(i) - 1 for i in input().split())\n",
    "    a[row][col] = -1  # расставляем мины\n",
    "for i in range(n):\n",
    "    for j in range(m):\n",
    "        if a[i][j] == 0:  # в этой клетке мины нет, поэтому считаем число мин вокруг\n",
    "            for di in range(-1, 2):\n",
    "                for dj in range(-1, 2):\n",
    "                    ai = i + di\n",
    "                    aj = j + dj\n",
    "                    # (ai, aj)\n",
    "                    if 0 <= ai < n and 0 <= aj < m and a[ai][aj] == -1:\n",
    "                        a[i][j] += 1\n",
    "# вывод результата\n",
    "for i in range(n):\n",
    "    for j in range(m):\n",
    "        if a[i][j] == -1:\n",
    "            print('*', end='')\n",
    "        elif a[i][j] == 0:\n",
    "            print('.', end='')\n",
    "        else:\n",
    "            print(a[i][j], end='')\n",
    "    print()"
   ]
  },
  {
   "cell_type": "markdown",
   "id": "3d4e48de",
   "metadata": {},
   "source": [
    "### 2.6.7 Задача№3 Сумма чисел=0, stop; Вывод чисел в квадрате\n",
    "Напишите программу, которая считывает с консоли числа (по одному в строке) до тех пор, пока сумма введённых чисел не будет равна 0 и сразу после этого выводит сумму квадратов всех считанных чисел.\n",
    "\n",
    "Гарантируется, что в какой-то момент сумма введённых чисел окажется равной 0, после этого считывание продолжать не нужно.\n",
    "\n",
    "В примере мы считываем числа 1, -3, 5, -6, -10, 13; в этот момент замечаем, что сумма этих чисел равна нулю и выводим сумму их квадратов, не обращая внимания на то, что остались ещё не прочитанные значения."
   ]
  },
  {
   "cell_type": "code",
   "execution_count": null,
   "id": "5b63b697",
   "metadata": {},
   "outputs": [],
   "source": [
    "# 1-ый Способ моё решение!\n",
    "def chisla_v_kvadrat(xs):\n",
    "        xs[:] = [i**2 for i in xs]\n",
    "i = 1\n",
    "sm = []\n",
    "if len(sm)==0:\n",
    "    i = int(input())\n",
    "    sm.append(i)\n",
    "    while sum(sm)!=0:\n",
    "        i = int(input())\n",
    "        sm.append(i)\n",
    "chisla_v_kvadrat(sm)\n",
    "print(sum(sm))"
   ]
  },
  {
   "cell_type": "code",
   "execution_count": 124,
   "id": "df9da603",
   "metadata": {},
   "outputs": [
    {
     "name": "stdout",
     "output_type": "stream",
     "text": [
      "1\n",
      "2\n",
      "-3\n",
      "[1, 4, 9]\n"
     ]
    }
   ],
   "source": [
    "# ____________________________2-ой способ. Самый изящный!\n",
    "s = [int(input())]\n",
    "while sum(s)!=0: \n",
    "    s.append(int(input()))\n",
    "print(sum([i**2 for i in s]))"
   ]
  },
  {
   "cell_type": "markdown",
   "id": "f50eb54b",
   "metadata": {},
   "source": [
    "### 2.6.8 Задача№4\n",
    "Напишите программу, которая выводит часть последовательности 1 2 2 3 3 3 4 4 4 4 5 5 5 5 5 ... (число повторяется столько раз, чему равно). На вход программе передаётся неотрицательное целое число n — столько элементов последовательности должна отобразить программа. На выходе ожидается последовательность чисел, записанных через пробел в одну строку.\n",
    "\n",
    "Например, если n = 7, то программа должна вывести 1 2 2 3 3 3 4."
   ]
  },
  {
   "cell_type": "code",
   "execution_count": 175,
   "id": "b3332bdc",
   "metadata": {},
   "outputs": [
    {
     "name": "stdout",
     "output_type": "stream",
     "text": [
      "10\n",
      "1 2 2 3 3 3 4 4 4 4\n"
     ]
    }
   ],
   "source": [
    "# 1-ый Способ Моё решение\n",
    "hd = []\n",
    "dg = []\n",
    "i = int(input())\n",
    "for h in range(1, i+1):\n",
    "    f = h\n",
    "    dg.append(str(f).split(' ')*f)\n",
    "for t in dg:\n",
    "    for y in t:\n",
    "        hd.append(int(y))\n",
    "print(*hd[:i]) # вывод результата в виде чисел"
   ]
  },
  {
   "cell_type": "code",
   "execution_count": null,
   "id": "a32e33f4",
   "metadata": {},
   "outputs": [],
   "source": [
    "# 2-ой Способ самое короткое решение\n",
    "n = int(input())\n",
    "a = []\n",
    "i = 0\n",
    "while len(a) < n:\n",
    "    a += [i] * i\n",
    "    i += 1\n",
    "print(*a[:n])"
   ]
  },
  {
   "cell_type": "markdown",
   "id": "385e0d64",
   "metadata": {},
   "source": [
    "### 2.6.9 Задача№5 \n",
    "Напишите программу, которая считывает список чисел lst из первой строки и число x из второй строки, которая выводит все позиции, на которых встречается число x в переданном списке lst.\n",
    "\n",
    "Позиции нумеруются с нуля, если число x не встречается в списке, вывести строку \"Отсутствует\" (без кавычек, с большой буквы).\n",
    "\n",
    "Позиции должны быть выведены в одну строку, по возрастанию абсолютного значения."
   ]
  },
  {
   "cell_type": "code",
   "execution_count": 171,
   "id": "1e06352e",
   "metadata": {},
   "outputs": [
    {
     "name": "stdout",
     "output_type": "stream",
     "text": [
      "5 8 2 7 8 8 2 4\n",
      "2\n",
      "2 6 "
     ]
    }
   ],
   "source": [
    "# 1-ый Способ Моё решение\n",
    "lst = [int(i) for i in input().split(' ')]\n",
    "indexes = []\n",
    "f = int(input())\n",
    "for j in range(len(lst)):\n",
    "    if lst[j] == f:\n",
    "        indexes.append(j)\n",
    "for o in indexes: # вывод результата в виде чисел\n",
    "    print(o,end = ' ')\n",
    "if len(indexes) == 0:\n",
    "    print('Отсутствует')"
   ]
  },
  {
   "cell_type": "code",
   "execution_count": 172,
   "id": "9ae50d16",
   "metadata": {
    "scrolled": true
   },
   "outputs": [
    {
     "name": "stdout",
     "output_type": "stream",
     "text": [
      "5 8 2 7 8 8 2 4\n",
      "1\n",
      "Отсутствует\n"
     ]
    }
   ],
   "source": [
    "# 2-ой Способ самое короткое решение\n",
    "l, n = [int(i) for i in input().split()], int(input())\n",
    "print(*[x for x in range(len(l)) if l[x]==n] if n in l else [\"Отсутствует\"])\n",
    "# print(*lst) - вывод чисел списка на экран через пробел без скобок/скобок"
   ]
  },
  {
   "cell_type": "markdown",
   "id": "608775c7",
   "metadata": {},
   "source": [
    "### 2.6.10 Задача№6\n",
    "Напишите программу, на вход которой подаётся прямоугольная матрица в виде последовательности строк. После последней строки матрицы идёт строка, содержащая только строку \"end\" (без кавычек, см. Sample Input).\n",
    "\n",
    "Программа должна вывести матрицу того же размера, у которой каждый элемент в позиции i, j равен сумме элементов первой матрицы на позициях (i-1, j), (i+1, j), (i, j-1), (i, j+1). У крайних символов соседний элемент находится с противоположной стороны матрицы.\n",
    "\n",
    "В случае одной строки/столбца элемент сам себе является соседом по соответствующему направлению.\n",
    "\n",
    "1 2 3  \n",
    "4 5 6  \n",
    "7 8 9  \n",
    "end"
   ]
  },
  {
   "cell_type": "code",
   "execution_count": 3,
   "id": "92b3252a",
   "metadata": {},
   "outputs": [
    {
     "name": "stdout",
     "output_type": "stream",
     "text": [
      "1 2 3   \n",
      "4 5 6   \n",
      "7 8 9   \n",
      "end\n",
      "16 17 18\n",
      "19 20 21\n",
      "22 23 24\n"
     ]
    }
   ],
   "source": [
    "# 1-ый Способ!       _Моё решение\n",
    "A = [] \n",
    "a = 0\n",
    "while a != ['end']:\n",
    "    a = [j for j in input().split()]\n",
    "    A.append(a)\n",
    "A = A[:-1]\n",
    "A = [[int(x) for x in y] for y in A]\n",
    "\n",
    "new = []\n",
    "summa = 0\n",
    "for i, n in enumerate(A):\n",
    "    for j, h in enumerate(n):  \n",
    "        summa = A[i - 1][j] + A[(i + 1) % len(A)][j] + A[i][j - 1] + A[i][(j + 1) % len(A[i])] # гениальное решение, без if, elif...    \n",
    "        new.append(summa)\n",
    "\n",
    "hew = []\n",
    "B = []\n",
    "for e in new:\n",
    "    if len(hew) == len(A[i]): # именно A[i], потому что смотрим на длину строки, \n",
    "        B.append(hew)         # чтобы вывод был в форме такой же матрицы (прямоугольная матрица)\n",
    "        hew = []\n",
    "        hew.append(e)\n",
    "    else:\n",
    "        hew.append(e)\n",
    "B.append(hew)\n",
    "for x in B:\n",
    "    print(*x)"
   ]
  },
  {
   "cell_type": "code",
   "execution_count": 7,
   "id": "2e31c166",
   "metadata": {},
   "outputs": [
    {
     "name": "stdout",
     "output_type": "stream",
     "text": [
      "1 2 3 \n",
      "4 5 6 \n",
      "7 8 9 \n",
      "end\n",
      "16 17 18 \n",
      "19 20 21 \n",
      "22 23 24 \n"
     ]
    }
   ],
   "source": [
    "a = [] # 2-Способ! Изящное решение!\n",
    "b = input()\n",
    "while b != \"end\":\n",
    "    a.append(b.split())\n",
    "    b = input()\n",
    "for i in range(len(a)):\n",
    "    for j in range(len(a[i])):\n",
    "        print(int(a[i-1][j]) + int(a[i-len(a)+1][j]) + int(a[i][j-1]) + int(a[i][j-len(a[i])+1]), end =\" \")\n",
    "    print()"
   ]
  },
  {
   "cell_type": "markdown",
   "id": "d74ba867",
   "metadata": {},
   "source": [
    "### 2.6.11 Задача№7 Дополнительная *\n",
    "Выведите таблицу размером n×n, заполненную числами от 1 до n^2 по спирали, выходящей из левого верхнего угла и закрученной по часовой стрелке, как показано в примере (здесь n=5):\\\n",
    "1  2  3  4  5\\\n",
    "16 17 18 19 6\\\n",
    "15 24 25 20 7\\\n",
    "14 23 22 21 8\\\n",
    "13 12 11 10 9                                                   "
   ]
  },
  {
   "cell_type": "code",
   "execution_count": 73,
   "id": "149fbecd",
   "metadata": {},
   "outputs": [
    {
     "name": "stdout",
     "output_type": "stream",
     "text": [
      "5\n",
      "1 2 3 4 5 \n",
      "16 17 18 19 6 \n",
      "15 24 25 20 7 \n",
      "14 23 22 21 8 \n",
      "13 12 11 10 9 \n"
     ]
    }
   ],
   "source": [
    "# 1-Способ! Моё решение по видео\n",
    "n = int(input())\n",
    "mtx = [[0]*n for i in range(n)]\n",
    "mtx\n",
    "i = 1\n",
    "x = 0\n",
    "y = -1\n",
    "d_row = 0 # (-1 0 1): движение вверх = -1; никуда не движемся в ряду = 0; движение вниз = 1\n",
    "d_columns = 1 # (-1 0 1): движение влево = -1; никуда не движемся в столбце = 0; движение вправо = 1\n",
    "while i <= n**2:\n",
    "    if (0<=x+d_row<n) and (0<=y+d_columns<n) and mtx[x+d_row][y+d_columns] == 0:\n",
    "        x += d_row\n",
    "        y += d_columns\n",
    "        mtx[x][y] = i\n",
    "        i += 1\n",
    "    else:\n",
    "        if d_columns == 1:\n",
    "            d_columns = 0\n",
    "            d_row = 1\n",
    "        elif d_row == 1:\n",
    "            d_row = 0\n",
    "            d_columns = -1\n",
    "        elif d_columns == -1:\n",
    "            d_columns = 0\n",
    "            d_row = -1\n",
    "        elif d_row == -1:\n",
    "            d_row = 0\n",
    "            d_columns = 1\n",
    "            \n",
    "for row in mtx:\n",
    "    for elem in row:\n",
    "        print(elem, end=' ')\n",
    "    print()"
   ]
  },
  {
   "cell_type": "code",
   "execution_count": 79,
   "id": "5209968a",
   "metadata": {},
   "outputs": [
    {
     "name": "stdout",
     "output_type": "stream",
     "text": [
      "5\n",
      "1 2 3 4 5\n",
      "16 17 18 19 6\n",
      "15 24 25 20 7\n",
      "14 23 22 21 8\n",
      "13 12 11 10 9\n"
     ]
    }
   ],
   "source": [
    "# 2-Способ! Изящное решение!\n",
    "n=int(input())\n",
    "t=[[0]*n for i in range (n)]\n",
    "i,j=0,0\n",
    "for k in range(1, n*n+1):\n",
    "    t[i][j]=k\n",
    "    if k==n*n: \n",
    "        break\n",
    "    if i<=j+1 and i+j<n-1: \n",
    "        j+=1\n",
    "    elif i<j and i+j>=n-1: \n",
    "        i+=1\n",
    "    elif i>=j and i+j>n-1: \n",
    "        j-=1\n",
    "    elif i>j+1 and i+j<=n-1: \n",
    "        i-=1\n",
    "for i in range(n):\n",
    "    print(*t[i])"
   ]
  },
  {
   "cell_type": "code",
   "execution_count": null,
   "id": "658e01b8",
   "metadata": {},
   "outputs": [],
   "source": []
  },
  {
   "cell_type": "markdown",
   "id": "af533144",
   "metadata": {},
   "source": [
    "# <center> 3  Функции. Словари. Интерпретатор. Файлы. Модули. <center>"
   ]
  },
  {
   "cell_type": "markdown",
   "id": "4afb447f",
   "metadata": {},
   "source": [
    "## 3.1 Функции"
   ]
  },
  {
   "cell_type": "markdown",
   "id": "f2d1d209",
   "metadata": {},
   "source": [
    "### 3.1.2 Объявление функции"
   ]
  },
  {
   "cell_type": "code",
   "execution_count": 2,
   "id": "79dde1d2",
   "metadata": {
    "ExecuteTime": {
     "end_time": "2022-09-07T09:20:15.549518Z",
     "start_time": "2022-09-07T09:20:15.529572Z"
    }
   },
   "outputs": [],
   "source": [
    "def min2(a, b):\n",
    "    if a <= b:\n",
    "        return a\n",
    "    else:\n",
    "        return b"
   ]
  },
  {
   "cell_type": "code",
   "execution_count": 5,
   "id": "9ffd0fcf",
   "metadata": {
    "ExecuteTime": {
     "end_time": "2022-09-07T09:22:21.563199Z",
     "start_time": "2022-09-07T09:22:21.553225Z"
    }
   },
   "outputs": [
    {
     "data": {
      "text/plain": [
       "4"
      ]
     },
     "execution_count": 5,
     "metadata": {},
     "output_type": "execute_result"
    }
   ],
   "source": [
    "min2(min2(5, 4), 26)"
   ]
  },
  {
   "cell_type": "markdown",
   "id": "fda7c948",
   "metadata": {},
   "source": [
    "### 3.1.4 Значения параметров по умолчанию"
   ]
  },
  {
   "cell_type": "code",
   "execution_count": 6,
   "id": "af00ab2d",
   "metadata": {
    "ExecuteTime": {
     "end_time": "2022-09-07T09:33:39.567817Z",
     "start_time": "2022-09-07T09:33:39.557851Z"
    }
   },
   "outputs": [],
   "source": [
    "def my_range(start, stop, step=1):\n",
    "    res=[]\n",
    "    if step > 0:\n",
    "        x = start\n",
    "        while x < stop:\n",
    "            res+=[x] # правильно понимаю что эта запись как append?\n",
    "            x+=step\n",
    "    elif step < 0:\n",
    "        x = start\n",
    "        while x > stop:\n",
    "            res+=[x] \n",
    "            x+=step\n",
    "    return res"
   ]
  },
  {
   "cell_type": "code",
   "execution_count": 15,
   "id": "a7ef1110",
   "metadata": {
    "ExecuteTime": {
     "end_time": "2022-09-07T09:35:01.432939Z",
     "start_time": "2022-09-07T09:35:01.417288Z"
    }
   },
   "outputs": [
    {
     "data": {
      "text/plain": [
       "[-1, 0, 1, 2]"
      ]
     },
     "execution_count": 15,
     "metadata": {},
     "output_type": "execute_result"
    }
   ],
   "source": [
    "my_range(-1, 3, 1)"
   ]
  },
  {
   "cell_type": "markdown",
   "id": "2fc71522",
   "metadata": {},
   "source": [
    "### 3.1.5 Значения параметров по имени"
   ]
  },
  {
   "cell_type": "code",
   "execution_count": 22,
   "id": "1ec43c5b",
   "metadata": {
    "ExecuteTime": {
     "end_time": "2022-09-07T09:40:07.962281Z",
     "start_time": "2022-09-07T09:40:07.953307Z"
    }
   },
   "outputs": [
    {
     "data": {
      "text/plain": [
       "[5, 6, 7, 8, 9, 10, 11, 12, 13, 14, 15, 16, 17, 18, 19]"
      ]
     },
     "execution_count": 22,
     "metadata": {},
     "output_type": "execute_result"
    }
   ],
   "source": [
    "my_range(stop=20, start=5) # указали явно, поэтому не важно в какой последовательности"
   ]
  },
  {
   "cell_type": "code",
   "execution_count": 23,
   "id": "45e5f3d0",
   "metadata": {
    "ExecuteTime": {
     "end_time": "2022-09-07T09:44:16.741757Z",
     "start_time": "2022-09-07T09:44:16.734756Z"
    }
   },
   "outputs": [],
   "source": [
    "def append_zero(xs):\n",
    "    xs.append(0)"
   ]
  },
  {
   "cell_type": "markdown",
   "id": "49342f54",
   "metadata": {},
   "source": [
    "### 3.1.7 Локальные и глобальные переменные"
   ]
  },
  {
   "cell_type": "markdown",
   "id": "cd1768e0",
   "metadata": {
    "ExecuteTime": {
     "end_time": "2022-09-07T09:46:06.547726Z",
     "start_time": "2022-09-07T09:46:06.529769Z"
    }
   },
   "source": [
    "**Локальная** - переменная внутри функции. \n",
    "\n",
    "**Глобальная** - переменная вне функции (обычная)."
   ]
  },
  {
   "cell_type": "markdown",
   "id": "94826ceb",
   "metadata": {},
   "source": [
    "####  Функция также может принимать переменное количество позиционных аргументов, тогда перед именем ставится *"
   ]
  },
  {
   "cell_type": "code",
   "execution_count": 83,
   "id": "b6fe389c",
   "metadata": {},
   "outputs": [],
   "source": [
    "def func(*args):\n",
    "    return args"
   ]
  },
  {
   "attachments": {
    "image.png": {
     "image/png": "[encoded data removed]"
    }
   },
   "cell_type": "markdown",
   "id": "d94ce0c6",
   "metadata": {},
   "source": [
    "#### Задача 3.1.8 \n",
    "**Напишите функцию f(x), которая возвращает значение следующей функции, определённой на всей числовой прямой:**\n",
    "![image.png](attachment:image.png)\n",
    "Требуется реализовать только функцию, решение не должно осуществлять операций ввода-вывода."
   ]
  },
  {
   "cell_type": "code",
   "execution_count": null,
   "id": "110c1d57",
   "metadata": {},
   "outputs": [],
   "source": [
    "def f(x):\n",
    "    res = []\n",
    "    if x <= -2:\n",
    "        res = 1-(x+2)**2\n",
    "    elif -2<x<=2:\n",
    "        res = -x/2\n",
    "    else:\n",
    "        res = (x-2)**2+1\n",
    "    return res"
   ]
  },
  {
   "cell_type": "markdown",
   "id": "8ce0329a",
   "metadata": {},
   "source": [
    "**Задача 3.1.9 Напишите функцию modify_list(l), которая принимает на вход список целых чисел, удаляет из него все нечётные значения, а чётные нацело делит на два. Функция не должна ничего возвращать, требуется только изменение переданного списка**"
   ]
  },
  {
   "cell_type": "code",
   "execution_count": 246,
   "id": "220fcd5c",
   "metadata": {
    "ExecuteTime": {
     "end_time": "2022-09-07T10:39:21.091013Z",
     "start_time": "2022-09-07T10:39:21.079019Z"
    }
   },
   "outputs": [],
   "source": [
    "# Моё решение 1-ый способ\n",
    "def modify_list(xs):\n",
    "    a = []\n",
    "    b = []\n",
    "    [a.append(int(i/2)) if i % 2 == 0 else b.append(i) for i in xs] # list comprehension\n",
    "    xs.clear()\n",
    "    [xs.append(n) for n in a] # list comprehension"
   ]
  },
  {
   "cell_type": "code",
   "execution_count": 2,
   "id": "fe80c97e",
   "metadata": {
    "ExecuteTime": {
     "end_time": "2022-09-07T10:39:21.279191Z",
     "start_time": "2022-09-07T10:39:21.264200Z"
    }
   },
   "outputs": [
    {
     "data": {
      "text/plain": [
       "[1, 2, 3, 4, 5, 6, 100]"
      ]
     },
     "execution_count": 2,
     "metadata": {},
     "output_type": "execute_result"
    }
   ],
   "source": [
    "l = [1, 2, 3, 4, 5, 6, 100]\n",
    "l"
   ]
  },
  {
   "cell_type": "code",
   "execution_count": 251,
   "id": "3b91b622",
   "metadata": {
    "ExecuteTime": {
     "end_time": "2022-09-07T10:39:21.674631Z",
     "start_time": "2022-09-07T10:39:21.665653Z"
    }
   },
   "outputs": [],
   "source": [
    "modify_list(l)"
   ]
  },
  {
   "cell_type": "code",
   "execution_count": 252,
   "id": "d1b78d55",
   "metadata": {
    "ExecuteTime": {
     "end_time": "2022-09-07T10:39:22.117647Z",
     "start_time": "2022-09-07T10:39:22.102687Z"
    }
   },
   "outputs": [
    {
     "data": {
      "text/plain": [
       "[1, 2, 3, 50]"
      ]
     },
     "execution_count": 252,
     "metadata": {},
     "output_type": "execute_result"
    }
   ],
   "source": [
    "l"
   ]
  },
  {
   "cell_type": "code",
   "execution_count": 63,
   "id": "febde8b2",
   "metadata": {},
   "outputs": [],
   "source": [
    "# 2-ой способ. Самый изящный!\n",
    "def modify_list(xs):\n",
    "    xs[:] = [i//2 for i in xs if not i % 2]"
   ]
  },
  {
   "cell_type": "code",
   "execution_count": 64,
   "id": "ff02fff4",
   "metadata": {},
   "outputs": [
    {
     "data": {
      "text/plain": [
       "[1, 2, 3, 4, 5, 6, 100]"
      ]
     },
     "execution_count": 64,
     "metadata": {},
     "output_type": "execute_result"
    }
   ],
   "source": [
    "l = [1, 2, 3, 4, 5, 6, 100]\n",
    "l"
   ]
  },
  {
   "cell_type": "code",
   "execution_count": 65,
   "id": "ccdc8941",
   "metadata": {},
   "outputs": [],
   "source": [
    "modify_list(l)"
   ]
  },
  {
   "cell_type": "code",
   "execution_count": 66,
   "id": "674145fd",
   "metadata": {},
   "outputs": [
    {
     "data": {
      "text/plain": [
       "[1, 2, 3, 50]"
      ]
     },
     "execution_count": 66,
     "metadata": {},
     "output_type": "execute_result"
    }
   ],
   "source": [
    "l"
   ]
  },
  {
   "cell_type": "markdown",
   "id": "b0d60edd",
   "metadata": {},
   "source": [
    "## 3.2 Словари и Множества (Изменяемые типы данных) "
   ]
  },
  {
   "cell_type": "markdown",
   "id": "5c935f4c",
   "metadata": {},
   "source": [
    "**Также изучим 2 часто используемых типа данных в Python:**\\\n",
    "1.Множества: set() \\\n",
    "2.Словари: dict()"
   ]
  },
  {
   "cell_type": "markdown",
   "id": "050541d9",
   "metadata": {},
   "source": [
    "### 1.Множества: <font color='green'>set</font>() "
   ]
  },
  {
   "cell_type": "code",
   "execution_count": 8,
   "id": "68e794a5",
   "metadata": {},
   "outputs": [
    {
     "name": "stdout",
     "output_type": "stream",
     "text": [
      "{'banana', 'orange', 'apple', 'pear'}\n"
     ]
    }
   ],
   "source": [
    "s = set() # оздание пустого множества\n",
    "basket = {'apple', 'orange', 'apple', 'pear', 'orange', 'banana'}\n",
    "print(basket) # в результате в множестве basket, будут только уникальные эл-ты"
   ]
  },
  {
   "cell_type": "code",
   "execution_count": 19,
   "id": "0fcb36a5",
   "metadata": {
    "scrolled": true
   },
   "outputs": [
    {
     "name": "stdout",
     "output_type": "stream",
     "text": [
      "True\n",
      "False\n"
     ]
    }
   ],
   "source": [
    "# проверка, есть эоемент в множестве\n",
    "print('orange' in basket) # True\n",
    "print('python' in basket) # False"
   ]
  },
  {
   "cell_type": "markdown",
   "id": "5d4ca4ec",
   "metadata": {},
   "source": [
    "#### 1.1 Операции над множествами"
   ]
  },
  {
   "cell_type": "markdown",
   "id": "16de1956",
   "metadata": {},
   "source": [
    "s**.add**(element) # добавление эл-та\\\n",
    "s**.remove**(element) # удаление эл-та (ошибка при его отсутствии в множестве)\\\n",
    "s**.discard**(element) # удаление эл-та (НЕТ ошибки при его отсутствии в множестве)\\\n",
    "s**.clear**(element) # очистка множества (удалить все элементы из множества)\\"
   ]
  },
  {
   "cell_type": "markdown",
   "id": "7398f268",
   "metadata": {},
   "source": [
    "#### 1.2 Перебор элементов множества"
   ]
  },
  {
   "cell_type": "code",
   "execution_count": 35,
   "id": "7aa99d81",
   "metadata": {},
   "outputs": [
    {
     "name": "stdout",
     "output_type": "stream",
     "text": [
      "banana\n",
      "orange\n",
      "apple\n",
      "pear\n"
     ]
    }
   ],
   "source": [
    "for x in basket:\n",
    "    print(x)"
   ]
  },
  {
   "cell_type": "markdown",
   "id": "08e78cfb",
   "metadata": {},
   "source": [
    "### 2.Словари: <font color='green'>dict</font>() "
   ]
  },
  {
   "cell_type": "markdown",
   "id": "5223c9a6",
   "metadata": {},
   "source": [
    "Словарь (dictionary), отображение (map),\\\n",
    "ассоциативный массив.\\\n",
    "Позволяет хранить пары <ключ, значение>."
   ]
  },
  {
   "cell_type": "code",
   "execution_count": 47,
   "id": "c6f7d97c",
   "metadata": {},
   "outputs": [
    {
     "name": "stdout",
     "output_type": "stream",
     "text": [
      "239\n",
      "100\n"
     ]
    }
   ],
   "source": [
    "dict(), {}\n",
    "d = {'a':239, 10: 100, 'Вася':232} # каждому ключу соответствует значение\n",
    "print(d['a'])\n",
    "print(d[10])"
   ]
  },
  {
   "cell_type": "markdown",
   "id": "171bf191",
   "metadata": {},
   "source": [
    "#### 2.1 Операции со словарями"
   ]
  },
  {
   "cell_type": "markdown",
   "id": "c521d331",
   "metadata": {},
   "source": [
    "dictionary = {...}\\\n",
    "key **in** dictionary # True/False\\\n",
    "key **not in** dictionary # True/False\\\n",
    "dictionary[key] = value \\\n",
    "dictionary[key]\\\n",
    "dictionary**.get**(key) # значение/None\\\n",
    "**del** dictionary[key]"
   ]
  },
  {
   "cell_type": "code",
   "execution_count": 42,
   "id": "478e7542",
   "metadata": {},
   "outputs": [
    {
     "data": {
      "text/plain": [
       "239"
      ]
     },
     "execution_count": 42,
     "metadata": {},
     "output_type": "execute_result"
    }
   ],
   "source": [
    "d.get('a')"
   ]
  },
  {
   "cell_type": "code",
   "execution_count": 44,
   "id": "98e6fa84",
   "metadata": {},
   "outputs": [
    {
     "data": {
      "text/plain": [
       "{'a': 239, 10: 100, 'Вася': 232}"
      ]
     },
     "execution_count": 44,
     "metadata": {},
     "output_type": "execute_result"
    }
   ],
   "source": [
    "d"
   ]
  },
  {
   "cell_type": "code",
   "execution_count": 48,
   "id": "70b0e7e6",
   "metadata": {},
   "outputs": [
    {
     "data": {
      "text/plain": [
       "{'a': 239, 10: 100}"
      ]
     },
     "execution_count": 48,
     "metadata": {},
     "output_type": "execute_result"
    }
   ],
   "source": [
    "del d['Вася']\n",
    "d"
   ]
  },
  {
   "cell_type": "markdown",
   "id": "d947d1f1",
   "metadata": {},
   "source": [
    "Итог по типу данных **Словари**:\\\n",
    "1)Изменяемы\\\n",
    "2)Элементы не имеют порядка\\\n",
    "3)Все ключи словаря различны\\\n",
    "4)Ключи **НЕизменяемы**"
   ]
  },
  {
   "cell_type": "markdown",
   "id": "20b71511",
   "metadata": {},
   "source": [
    "5)У одного ключа может быть несколько значений:\\\n",
    "если передать их списком!"
   ]
  },
  {
   "cell_type": "code",
   "execution_count": 71,
   "id": "0705fec1",
   "metadata": {},
   "outputs": [
    {
     "data": {
      "text/plain": [
       "['Ivanov', 'Petrov']"
      ]
     },
     "execution_count": 71,
     "metadata": {},
     "output_type": "execute_result"
    }
   ],
   "source": [
    "d = {'Т530НО':['Ivanov', 'Petrov'], 'A218МО': 'Sidorov'}\n",
    "d['Т530НО']"
   ]
  },
  {
   "cell_type": "markdown",
   "id": "170ed7f7",
   "metadata": {},
   "source": [
    "#### 2.2 Перебор элементов словаря"
   ]
  },
  {
   "cell_type": "code",
   "execution_count": 66,
   "id": "c8c2ad1f",
   "metadata": {},
   "outputs": [
    {
     "name": "stdout",
     "output_type": "stream",
     "text": [
      "CATG---\n",
      "CATG"
     ]
    }
   ],
   "source": [
    "d = {'C': 14, 'A': 12, 'T': 9, 'G': 18}\n",
    "for key in d:\n",
    "    print(key, end='') # C G A T\n",
    "    \n",
    "print('---')\n",
    "for key in d.keys():\n",
    "    print(key, end='') # C G A T  "
   ]
  },
  {
   "cell_type": "code",
   "execution_count": 60,
   "id": "9c6d81f5",
   "metadata": {},
   "outputs": [
    {
     "name": "stdout",
     "output_type": "stream",
     "text": [
      "1412918"
     ]
    }
   ],
   "source": [
    "for value in d.values():\n",
    "    print(value, end='')"
   ]
  },
  {
   "cell_type": "code",
   "execution_count": 67,
   "id": "59991092",
   "metadata": {},
   "outputs": [
    {
     "name": "stdout",
     "output_type": "stream",
     "text": [
      "C 14; A 12; T 9; G 18; "
     ]
    }
   ],
   "source": [
    "for key, value in d.items():\n",
    "    print(key, value, end='; ')"
   ]
  },
  {
   "cell_type": "markdown",
   "id": "bf87120c",
   "metadata": {},
   "source": [
    "### 3.2.5 Задача№1 "
   ]
  },
  {
   "cell_type": "markdown",
   "id": "b6a6c636",
   "metadata": {},
   "source": [
    "Напишите функцию update_dictionary(d, key, value), которая принимает на вход словарь d и два числа: key и value.\n",
    "\n",
    "1) Если ключ key есть в словаре d, то добавьте значение value в список, который хранится по этому ключу.\\\n",
    "2) Если ключа key нет в словаре, то нужно добавить значение в список по ключу 2∗key. \\\n",
    "3) Если и ключа 2∗key нет, то нужно добавить ключ 2∗key в словарь и сопоставить ему список из переданного элемента [value].\n",
    "\n",
    "Требуется реализовать только эту функцию, кода вне её не должно быть.\n",
    "Функция не должна вызывать внутри себя функции input и print.\n",
    "\n",
    "Пример работы функции:\n",
    "\n",
    "d = {}\\\n",
    "print(update_dictionary(d, 1, -1))  # None\\\n",
    "print(d)                            # {2: [-1]}\\\n",
    "update_dictionary(d, 2, -2)\\\n",
    "print(d)                            # {2: [-1, -2]}\\\n",
    "update_dictionary(d, 1, -3)\\\n",
    "print(d)                            # {2: [-1, -2, -3]}"
   ]
  },
  {
   "cell_type": "code",
   "execution_count": 256,
   "id": "e3c49ae5",
   "metadata": {},
   "outputs": [],
   "source": [
    "def update_dictionary(d, key, value):\n",
    "    if key in d.keys(): #  Если ключ key есть в словаре d\n",
    "        for i, n in enumerate(d.keys()):\n",
    "            if key == n:\n",
    "                list(d.values())[i].append(value)\n",
    "    elif 2*key in d.keys():\n",
    "        for i, n in enumerate(d.keys()):\n",
    "            if 2*key == n:\n",
    "                list(d.values())[i].append(value)            \n",
    "    elif 2*key not in d.keys():\n",
    "        d.update({2*key:[value]})"
   ]
  },
  {
   "cell_type": "code",
   "execution_count": 259,
   "id": "49667085",
   "metadata": {},
   "outputs": [
    {
     "name": "stdout",
     "output_type": "stream",
     "text": [
      "None\n",
      "{2: [-1]}\n",
      "{2: [-1, -2]}\n",
      "{2: [-1, -2, -3]}\n"
     ]
    }
   ],
   "source": [
    "d = {}\n",
    "print(update_dictionary(d, 1, -1)) # None\n",
    "print(d) # {2: [-1]}\n",
    "update_dictionary(d, 2, -2)\n",
    "print(d) # {2: [-1, -2]}\n",
    "update_dictionary(d, 1, -3) \n",
    "print(d) # {2: [-1, -2, -3]}"
   ]
  },
  {
   "cell_type": "markdown",
   "id": "baffacc8",
   "metadata": {},
   "source": [
    "### 3.2.6 Задача№2"
   ]
  },
  {
   "cell_type": "markdown",
   "id": "4b3cc546",
   "metadata": {},
   "source": [
    "Когда Антон прочитал «Войну и мир», ему стало интересно, сколько слов и в каком количестве используется в этой книге.\n",
    "\n",
    "Помогите Антону написать упрощённую версию такой программы, которая сможет подсчитать слова, разделённые пробелом и вывести получившуюся статистику.\n",
    "\n",
    "Программа должна считывать одну строку со стандартного ввода и выводить для каждого уникального слова в этой строке число его повторений (без учёта регистра) в формате \"слово количество\" (см. пример вывода).\n",
    "Порядок вывода слов может быть произвольным, каждое уникальное слово должно выводиться только один раз.\n",
    "\n",
    "**Sample Input 1:**\\\n",
    "a aa abC aa ac abc bcd a\\\n",
    "**Sample Output 1:**\\\n",
    "ac 1\\\n",
    "a 2\\\n",
    "abc 2\\\n",
    "bcd 1\\\n",
    "aa 2"
   ]
  },
  {
   "cell_type": "code",
   "execution_count": 17,
   "id": "a3648ff7",
   "metadata": {},
   "outputs": [
    {
     "name": "stdout",
     "output_type": "stream",
     "text": [
      "a aa abC aa ac abc bcd a\n",
      "a 2\n",
      "aa 2\n",
      "abc 2\n",
      "ac 1\n",
      "bcd 1\n"
     ]
    }
   ],
   "source": [
    "n = [st.lower() for st in input().split(' ')]\n",
    "d = {}\n",
    "for i in n:\n",
    "    if i in d.keys():\n",
    "        for key, value in d.items():\n",
    "            if i == key:\n",
    "                d.update({key:value+1})\n",
    "    elif i not in d.keys():\n",
    "        d.update({i:1})\n",
    "        \n",
    "for key, value in d.items():\n",
    "    print(key, value)"
   ]
  },
  {
   "cell_type": "markdown",
   "id": "1c2113c5",
   "metadata": {},
   "source": [
    "### 3.2.7 Задача№3"
   ]
  },
  {
   "cell_type": "markdown",
   "id": "ba115ab6",
   "metadata": {},
   "source": [
    "Напишите программу, которая считывает строку с числом **n**, которое задаёт количество чисел, которые нужно считать. \n",
    "Далее считывает **n** строк с числами \n",
    "\\begin{equation*}\n",
    "x_i,\n",
    "\\end{equation*} по одному числу в каждой строке. \n",
    "Итого будет n+1 строк.\n",
    "При считывании числа \n",
    "\\begin{equation*}\n",
    "x_i\n",
    "\\end{equation*}\n",
    "программа должна на отдельной строке вывести значение \n",
    "\\begin{equation*}\n",
    "f(x_i).\n",
    "\\end{equation*} \n",
    "Функция f(x) уже реализована и доступна для вызова. \n",
    "Функция вычисляется достаточно долго и зависит только от переданного аргумента x. \n",
    "Для того, чтобы уложиться в ограничение по времени, нужно избежать повторного вычисления значений.\n",
    "\n",
    "**# Считайте, что функция f(x) уже определена выше. Определять её отдельно не требуется.**\n",
    "\n",
    "**Sample Input:**\\\n",
    "5\\\n",
    "5\\\n",
    "12\\\n",
    "9\\\n",
    "20\\\n",
    "12\n",
    "\n",
    "**Sample Output:**\\\n",
    "11\\\n",
    "41\\\n",
    "47\\\n",
    "61\\\n",
    "41"
   ]
  },
  {
   "cell_type": "code",
   "execution_count": 4,
   "id": "f2c67cea",
   "metadata": {},
   "outputs": [],
   "source": [
    "# своя ф-я просто для проверки\n",
    "def f(x):\n",
    "    return x**2"
   ]
  },
  {
   "cell_type": "code",
   "execution_count": 7,
   "id": "e1cd3c42",
   "metadata": {},
   "outputs": [
    {
     "name": "stdout",
     "output_type": "stream",
     "text": [
      "4\n",
      "2\n",
      "2\n",
      "3\n",
      "3\n",
      "4\n",
      "4\n",
      "9\n",
      "9\n"
     ]
    }
   ],
   "source": [
    "n = int(input())\n",
    "d = {}\n",
    "mas = []\n",
    "for i in range(n):\n",
    "    ch = int(input())\n",
    "    mas.append(ch)\n",
    "    if ch in d.keys():\n",
    "        continue\n",
    "    elif ch not in d.keys():\n",
    "        d.update({ch: f(ch)})\n",
    "# вывод            \n",
    "for chislo in mas:\n",
    "    for key, value in d.items():\n",
    "        if chislo == key:\n",
    "            print(value)"
   ]
  },
  {
   "cell_type": "markdown",
   "id": "09d23b4e",
   "metadata": {},
   "source": [
    "## 3.3 Интерпретатор: установка, запуск скрипта"
   ]
  },
  {
   "cell_type": "markdown",
   "id": "eba2060a",
   "metadata": {},
   "source": [
    "Напишем простую программу, которая будет считывать два числа в разных строках и считать их сумму."
   ]
  },
  {
   "cell_type": "markdown",
   "id": "af19a835",
   "metadata": {},
   "source": [
    "1. Создаём текстовой документ, в нём пишем наш скрипт(код)            \\\n",
    "2. Сохраняем текстовый документ в папку из которой будем запускать наш скрипт через cmd:\\\n",
    "                        а)Имя файла: script.py                          \\\n",
    "                        б)Тип файла: Все файлы                        \\\n",
    "3. Открываем командную строку(cmd), переходим в в нашу папку, пример: \\\n",
    "                        (Создал папку на рабочем столе - NewFolder)   \\\n",
    "Пишем в cmd                                                           \\\n",
    "4. Переходим в папку:>>>cd /D d:\\Рабочий стол\\NewFolder                    \\                        \n",
    "5. Запускаем скрипт: >>>python script.py   "
   ]
  },
  {
   "cell_type": "code",
   "execution_count": 1,
   "id": "5542dc69",
   "metadata": {},
   "outputs": [
    {
     "name": "stdout",
     "output_type": "stream",
     "text": [
      "2\n",
      "3\n",
      "5\n"
     ]
    }
   ],
   "source": [
    "a = int(input())\n",
    "b = int(input())\n",
    "print(a + b)"
   ]
  },
  {
   "cell_type": "markdown",
   "id": "7b9e3e18",
   "metadata": {},
   "source": [
    "## 3.4 Файловый ввод/вывод"
   ]
  },
  {
   "cell_type": "markdown",
   "id": "d7b3338c",
   "metadata": {},
   "source": [
    "### 3.4.1 Чтение из файла"
   ]
  },
  {
   "cell_type": "code",
   "execution_count": 52,
   "id": "1e57c6e9",
   "metadata": {},
   "outputs": [],
   "source": [
    "# любой текстовый документ с текстом\n",
    "inf = open('D:/Рабочий стол/folder/file.txt', 'r') # open('file.txt') 'r' - режим чтения файла"
   ]
  },
  {
   "cell_type": "code",
   "execution_count": 53,
   "id": "0296452d",
   "metadata": {},
   "outputs": [
    {
     "data": {
      "text/plain": [
       "'As has been the case for many years, jobs, or forms of employment wherein employees perform a service or duty in exchange for financial compensation, play a prominent role in society. \\n'"
      ]
     },
     "execution_count": 53,
     "metadata": {},
     "output_type": "execute_result"
    }
   ],
   "source": [
    "inf.readline() # вывод текста файла"
   ]
  },
  {
   "cell_type": "code",
   "execution_count": 54,
   "id": "fe883425",
   "metadata": {},
   "outputs": [],
   "source": [
    "# inf.readline() при каждом запуске выводит следующую строку из файла\n",
    "s1 = inf.readline() # содержимое первой строки в переменную s1\n",
    "s2 = inf.readline() # содержимое второй строки в переменную s2\n",
    "inf.close() # мы должны закрыть файл, чтобы освободить ресурсы"
   ]
  },
  {
   "cell_type": "code",
   "execution_count": 55,
   "id": "8c22bda9",
   "metadata": {},
   "outputs": [
    {
     "data": {
      "text/plain": [
       "\"Furthermore, all jobsвЂ”even those of seemingly little significanceвЂ”are important, as they simply wouldn't exist if their specific responsibilities weren't of value to employers (companies or persons that pay others for their work), \\n\""
      ]
     },
     "execution_count": 55,
     "metadata": {},
     "output_type": "execute_result"
    }
   ],
   "source": [
    "s1"
   ]
  },
  {
   "cell_type": "markdown",
   "id": "1fa25150",
   "metadata": {},
   "source": [
    "#### 1) Конструкция <font color='green'>with as</font> , сама закрывает файл"
   ]
  },
  {
   "cell_type": "code",
   "execution_count": 47,
   "id": "6838b3a5",
   "metadata": {},
   "outputs": [
    {
     "name": "stdout",
     "output_type": "stream",
     "text": [
      "As has been the case for many years, jobs, or forms of employment wherein employees perform a service or duty in exchange for financial compensation, play a prominent role in society. \n",
      "\n",
      "Furthermore, all jobsвЂ”even those of seemingly little significanceвЂ”are important, as they simply wouldn't exist if their specific responsibilities weren't of value to employers (companies or persons that pay others for their work), \n",
      "\n",
      "customers (individuals who pay money for a product or service), and the economy generally.\n",
      "\n"
     ]
    }
   ],
   "source": [
    "# данный способ рекомендуется для работы с файлами, он удобен!\n",
    "with open('D:/Рабочий стол/folder/file.txt') as inf:\n",
    "    s1 = inf.readline() \n",
    "    s2 = inf.readline()\n",
    "    s3 = inf.readline()\n",
    "    print(s1)\n",
    "    print(s2)\n",
    "    print(s3)\n",
    " # здесь файл уже будет закрыт"
   ]
  },
  {
   "cell_type": "markdown",
   "id": "d85db9e4",
   "metadata": {},
   "source": [
    "#### 2) Пара полезных функций"
   ]
  },
  {
   "cell_type": "markdown",
   "id": "9bfe1ec3",
   "metadata": {},
   "source": [
    "##### Метод strip()"
   ]
  },
  {
   "cell_type": "code",
   "execution_count": 62,
   "id": "2db8f955",
   "metadata": {},
   "outputs": [
    {
     "data": {
      "text/plain": [
       "'abc'"
      ]
     },
     "execution_count": 62,
     "metadata": {},
     "output_type": "execute_result"
    }
   ],
   "source": [
    "# чтобы в начале и конце строки не было символа '\\n', и других символов табуляции\n",
    "# Пример работы метода\n",
    "'\\t abc \\n'.strip() # -> 'abc'"
   ]
  },
  {
   "cell_type": "code",
   "execution_count": 64,
   "id": "cda38ac7",
   "metadata": {},
   "outputs": [
    {
     "data": {
      "text/plain": [
       "'As has been the case for many years, jobs, or forms of employment wherein employees perform a service or duty in exchange for financial compensation, play a prominent role in society.'"
      ]
     },
     "execution_count": 64,
     "metadata": {},
     "output_type": "execute_result"
    }
   ],
   "source": [
    "inf = open('D:/Рабочий стол/folder/file.txt', 'r') \n",
    "s = inf.readline().strip()\n",
    "s # вывод без '\\n'"
   ]
  },
  {
   "cell_type": "markdown",
   "id": "cf0412a0",
   "metadata": {},
   "source": [
    "##### Метод join()"
   ]
  },
  {
   "cell_type": "code",
   "execution_count": 77,
   "id": "dc8c2ee6",
   "metadata": {},
   "outputs": [
    {
     "data": {
      "text/plain": [
       "'D:/Рабочий стол\\\\folder\\\\file.txt'"
      ]
     },
     "execution_count": 77,
     "metadata": {},
     "output_type": "execute_result"
    }
   ],
   "source": [
    "# 'D:/Рабочий стол/folder/file.txt'\n",
    "import os\n",
    "os.path.join('D:/', 'Рабочий стол', 'folder', 'file.txt')"
   ]
  },
  {
   "cell_type": "markdown",
   "id": "cb4638b8",
   "metadata": {},
   "source": [
    "#### 3) Построчное чтение файла"
   ]
  },
  {
   "cell_type": "code",
   "execution_count": 78,
   "id": "61e7cfa4",
   "metadata": {},
   "outputs": [
    {
     "name": "stdout",
     "output_type": "stream",
     "text": [
      "As has been the case for many years, jobs, or forms of employment wherein employees perform a service or duty in exchange for financial compensation, play a prominent role in society.\n",
      "Furthermore, all jobsвЂ”even those of seemingly little significanceвЂ”are important, as they simply wouldn't exist if their specific responsibilities weren't of value to employers (companies or persons that pay others for their work),\n",
      "customers (individuals who pay money for a product or service), and the economy generally.\n",
      "We have got a cat.\n",
      "It is small and grey.\n",
      "It is very nice.\n",
      "It has big blue eyes, a funny nose, a small mouth and sharp teeth.\n",
      "Its ears are small.\n",
      "It can play hide-and-seek.\n",
      "I love my cat. It loves me, too.\n"
     ]
    }
   ],
   "source": [
    "with open('D:/Рабочий стол/folder/file.txt', 'r') as inf:\n",
    "    for line in inf:\n",
    "        line = line.strip()\n",
    "        print(line)"
   ]
  },
  {
   "cell_type": "markdown",
   "id": "13a16296",
   "metadata": {},
   "source": [
    "#### 4) Запись в файл"
   ]
  },
  {
   "cell_type": "code",
   "execution_count": 82,
   "id": "ca4c009e",
   "metadata": {},
   "outputs": [],
   "source": [
    "ouf = open('D:/Рабочий стол/folder/file.txt', 'w') # open('file.txt') 'w' - режим записи\n",
    "ouf.write('Some text\\n')\n",
    "ouf.write(str(23))\n",
    "ouf.close()"
   ]
  },
  {
   "cell_type": "code",
   "execution_count": 86,
   "id": "5a1ef123",
   "metadata": {},
   "outputs": [],
   "source": [
    "with open('D:/Рабочий стол/folder/file.txt', 'w') as ouf:\n",
    "    ouf.write('Some text\\n')\n",
    "    ouf.write(str(23))\n",
    " # здесь файл уже закрыт"
   ]
  },
  {
   "cell_type": "code",
   "execution_count": 88,
   "id": "7aa62998",
   "metadata": {},
   "outputs": [
    {
     "name": "stdout",
     "output_type": "stream",
     "text": [
      "Some text\n",
      "23\n"
     ]
    }
   ],
   "source": [
    "# Посмотрим что получилось в режиме чтения - 'r'\n",
    "with open('D:/Рабочий стол/folder/file.txt', 'r') as ouf:\n",
    "        for line in ouf:\n",
    "            line = line.strip()\n",
    "            print(line)"
   ]
  },
  {
   "cell_type": "markdown",
   "id": "7a6de624",
   "metadata": {},
   "source": [
    "### 3.4.2 Задача№1"
   ]
  },
  {
   "cell_type": "markdown",
   "id": "6d8214eb",
   "metadata": {},
   "source": [
    "На прошлой неделе мы сжимали строки, используя кодирование повторов. Теперь нашей задачей будет восстановление исходной строки обратно.\n",
    "\n",
    "Напишите программу, которая считывает из файла строку, соответствующую тексту, сжатому с помощью кодирования повторов, и производит обратную операцию, получая исходный текст.\n",
    "\n",
    "Запишите полученный текст в файл и прикрепите его, как ответ на это задание.\n",
    "\n",
    "В исходном тексте не встречаются цифры, так что код однозначно интерпретируем.\n",
    "\n",
    "Примечание. Это первое задание типа Dataset Quiz. В таких заданиях после нажатия \"Start Quiz\" у вас появляется ссылка \"download your dataset\". Используйте эту ссылку для того, чтобы загрузить файл со входными данными к себе на компьютер. Запустите вашу программу, используя этот файл в качестве входных данных. Выходной файл, который при этом у вас получится, надо отправить в качестве ответа на эту задачу.\n",
    "\n",
    "**Sample Input:**\\\n",
    "a3b4c2e10b1\n",
    "\n",
    "**Sample Output:**\\\n",
    "aaabbbbcceeeeeeeeeeb"
   ]
  },
  {
   "cell_type": "code",
   "execution_count": 131,
   "id": "8b7e505b",
   "metadata": {},
   "outputs": [
    {
     "name": "stdout",
     "output_type": "stream",
     "text": [
      "['a', 'b', 'c', 'd', 'e', 'f', 'g', 'h', 'i', 'j', 'k', 'l', 'm', 'n', 'o', 'p', 'q', 'r', 's', 't', 'u', 'v', 'w', 'x', 'y', 'z', 'A', 'B', 'C', 'D', 'E', 'F', 'G', 'H', 'I', 'J', 'K', 'L', 'M', 'N', 'O', 'P', 'Q', 'R', 'S', 'T', 'U', 'V', 'W', 'X', 'Y', 'Z']"
     ]
    }
   ],
   "source": [
    "# добавим алфавит\n",
    "s = ''\n",
    "for i in range(ord('a'), ord('z')+1):\n",
    "    s+=chr(i)\n",
    "\n",
    "alf = [k for k in s]\n",
    "# верхний регистр\n",
    "s = ''\n",
    "for i in range(ord('A'), ord('Z')+1):\n",
    "    s+=chr(i)\n",
    "[alf.append(k) for k in s] \n",
    "print(alf, end='')\n",
    "\n",
    "# скрипт\n",
    "with open('D:/Рабочий стол/folder/dataset_3363_2.txt', 'r') as ouf:\n",
    "    for line in ouf:\n",
    "        line = line.strip()\n",
    "        \n",
    "    # список разделяющий букву и число\n",
    "    new_list = []\n",
    "    znachenie = []\n",
    "    for idx, i in enumerate(line):\n",
    "        if i not in alf:\n",
    "            znachenie.append(i)\n",
    "        elif i in alf and idx != 0:\n",
    "            znachenie = int(''.join(znachenie))\n",
    "            new_list.append(znachenie)\n",
    "            new_list.append(i)\n",
    "            znachenie = []\n",
    "        else:\n",
    "            new_list.append(i)\n",
    "            znachenie = [] \n",
    "    znachenie = int(''.join(znachenie))\n",
    "    new_list.append(znachenie)\n",
    "\n",
    "    # умножение буквы на число\n",
    "    itog = []\n",
    "    for idx, i in enumerate(new_list):\n",
    "        if idx%2==0:\n",
    "            itog.append(new_list[idx]*new_list[idx+1])\n",
    "        else:\n",
    "            continue\n",
    "    itog = ''.join(itog)\n",
    "    itog\n",
    "    \n",
    "with open('D:/Рабочий стол/folder/dataset_3363_2.txt', 'w') as ouf: # запишем новую строку в файл\n",
    "    ouf.write(itog)"
   ]
  },
  {
   "cell_type": "markdown",
   "id": "58bc4085",
   "metadata": {},
   "source": [
    "### 3.4.3 Задача№2"
   ]
  },
  {
   "cell_type": "markdown",
   "id": "dbac9377",
   "metadata": {},
   "source": [
    "Недавно мы считали для каждого слова количество его вхождений в строку. Но на все слова может быть не так интересно смотреть, как, например, на наиболее часто используемые.\n",
    "\n",
    "Напишите программу, которая считывает текст из файла (в файле может быть больше одной строки) и выводит самое частое слово в этом тексте и через пробел то, сколько раз оно встретилось. Если таких слов несколько, вывести лексикографически первое (можно использовать оператор < для строк).\n",
    "\n",
    "В качестве ответа укажите вывод программы, а не саму программу.\n",
    "\n",
    "Слова, написанные в разных регистрах, считаются одинаковыми.\n",
    "\n",
    "**Sample Input:**\\\n",
    "abc a bCd bC AbC BC BCD bcd ABC\n",
    "\n",
    "**Sample Output:**\\\n",
    "abc 3"
   ]
  },
  {
   "cell_type": "code",
   "execution_count": 59,
   "id": "b18a3a36",
   "metadata": {},
   "outputs": [
    {
     "name": "stdout",
     "output_type": "stream",
     "text": [
      "a 9\n",
      "c 9\n"
     ]
    }
   ],
   "source": [
    "text = []\n",
    "with open('D:/Рабочий стол/folder/dataset_3363_3.txt', 'r') as txt:\n",
    "    for line in txt:\n",
    "        text.append(line.strip())\n",
    "        \n",
    "    # кусок кода из задания \"3.2.6\"\n",
    "    n = [st.lower() for st in ' '.join(text).split(' ')]\n",
    "    d = {}\n",
    "    for i in n:\n",
    "        if i in d.keys():\n",
    "            for key, value in d.items():\n",
    "                if i == key:\n",
    "                    d.update({key:value+1})\n",
    "        elif i not in d.keys():\n",
    "            d.update({i:1})\n",
    "\n",
    "# Для решения задания не пришлось использовать вывод: лексикографически первое (можно использовать оператор < для строк)\n",
    "\n",
    "    for key, value in d.items():\n",
    "        if max(d.values()) == value:\n",
    "            print(key, value)"
   ]
  },
  {
   "cell_type": "markdown",
   "id": "9e190a6e",
   "metadata": {},
   "source": [
    "### 3.4.4 Задача№3"
   ]
  },
  {
   "cell_type": "markdown",
   "id": "d431b8bc",
   "metadata": {},
   "source": [
    "Имеется файл с данными по успеваемости абитуриентов. Он представляет из себя набор строк, где в каждой строке записана следующая информация:\n",
    "\n",
    "Фамилия;Оценка_по_математике;Оценка_по_физике;Оценка_по_русскому_языку\n",
    "\n",
    "Поля внутри строки разделены точкой с запятой, оценки — целые числа.\n",
    "\n",
    "Напишите программу, которая считывает исходный файл с подобной структурой и для каждого абитуриента записывает его среднюю оценку по трём предметам на отдельной строке, соответствующей этому абитуриенту, в файл с ответом.\n",
    "\n",
    "Также вычислите средние баллы по математике, физике и русскому языку по всем абитуриентам и добавьте полученные значения, разделённые пробелом, последней строкой в файл с ответом.\n",
    "\n",
    "В качестве ответа на задание прикрепите полученный файл со средними оценками по каждому ученику и одной строкой со средними оценками по трём предметам.\n",
    "\n",
    "Примечание. Для разбиения строки на части по символу ';' можно использовать метод split следующим образом:\n",
    "\n",
    "print('First;Second-1 Second-2;Third'.split(';'))\\\n",
    "#['First', 'Second-1 Second-2', 'Third']\n",
    "\n",
    "**Sample Input:**\\\n",
    "Петров;85;92;78\\\n",
    "Сидоров;100;88;94\\\n",
    "Иванов;58;72;85\n",
    "\n",
    "**Sample Output:**\\\n",
    "85.0\\\n",
    "94.0\\\n",
    "71.666666667\\\n",
    "81.0 84.0 85.666666667"
   ]
  },
  {
   "cell_type": "code",
   "execution_count": 8,
   "id": "b8138537",
   "metadata": {},
   "outputs": [
    {
     "name": "stdout",
     "output_type": "stream",
     "text": [
      "79.33333333333333\n",
      "43.333333333333336\n",
      "62.666666666666664\n",
      "33.666666666666664\n",
      "50.0\n",
      "50.333333333333336\n",
      "59.333333333333336\n",
      "60.0\n",
      "58.0\n",
      "42.333333333333336\n",
      "64.66666666666667\n",
      "75.0\n",
      "81.0\n",
      "40.0\n",
      "71.33333333333333\n",
      "53.0\n",
      "55.333333333333336\n",
      "73.66666666666667\n",
      "82.66666666666667\n",
      "78.66666666666667\n",
      "59.666666666666664\n",
      "63.0\n",
      "76.66666666666667\n",
      "58.0\n",
      "61.0\n",
      "48.0\n",
      "66.66666666666667\n",
      "61.0\n",
      "84.66666666666667\n",
      "58.333333333333336\n",
      "62.0\n",
      "79.66666666666667\n",
      "45.333333333333336\n",
      "50.0\n",
      "55.333333333333336\n",
      "54.666666666666664\n",
      "78.33333333333333\n",
      "71.0\n",
      "58.0\n",
      "76.66666666666667\n",
      "78.66666666666667\n",
      "52.666666666666664\n",
      "74.0\n",
      "78.66666666666667\n",
      "68.33333333333333\n",
      "51.666666666666664\n",
      "77.0\n",
      "69.33333333333333\n",
      "61.666666666666664\n",
      "44.333333333333336\n",
      "63.333333333333336\n",
      "79.0\n",
      "55.666666666666664\n",
      "68.66666666666667\n",
      "54.333333333333336\n",
      "52.0\n",
      "74.0\n",
      "67.66666666666667\n",
      "40.0\n",
      "43.333333333333336\n",
      "42.0\n",
      "59.333333333333336\n",
      "57.666666666666664\n",
      "64.66666666666667\n",
      "66.33333333333333\n",
      "49.666666666666664\n",
      "54.333333333333336\n",
      "70.33333333333333\n",
      "69.0\n",
      "65.33333333333333\n",
      "79.66666666666667\n",
      "52.333333333333336\n",
      "61.666666666666664\n",
      "55.333333333333336\n",
      "68.0\n",
      "66.0\n",
      "45.0\n",
      "61.0\n",
      "77.0\n",
      "70.33333333333333\n",
      "46.0\n",
      "64.50617283950618 61.074074074074076 60.25925925925926\n"
     ]
    }
   ],
   "source": [
    "text = []\n",
    "A = []\n",
    "\n",
    "math = []\n",
    "phis = []\n",
    "rus = []\n",
    "\n",
    "with open('D:/Рабочий стол/folder/dataset_3363_4.txt', 'r') as dataset:\n",
    "    for line in dataset:\n",
    "        text.append(line.strip())\n",
    "        \n",
    "    for x in text:\n",
    "        A.append(x.split(';'))\n",
    "        \n",
    "    for a in A:\n",
    "        for idx, i in enumerate(a):\n",
    "            if idx != 0:\n",
    "                a[idx] = int(i)\n",
    "    for a in A:\n",
    "        print(sum(a[1:])/(len(a)-1))\n",
    "        \n",
    "    for a in A:\n",
    "        math.append(a[1])\n",
    "        phis.append(a[2])\n",
    "        rus.append(a[3])\n",
    "    print(sum(math)/len(A), sum(phis)/len(A), sum(rus)/len(A))\n",
    "    \n",
    "    \n",
    "#     for idx, i in enumerate(text):\n",
    "#         if idx != 0:\n",
    "#             a[idx] = int(i)\n",
    "# print(text)"
   ]
  },
  {
   "cell_type": "markdown",
   "id": "46b34fbf",
   "metadata": {},
   "source": [
    "## 3.5 Модули"
   ]
  },
  {
   "cell_type": "markdown",
   "id": "66049c44",
   "metadata": {},
   "source": [
    "### 3.5.1 Модули, подключение модулей"
   ]
  },
  {
   "cell_type": "markdown",
   "id": "9f10d887",
   "metadata": {},
   "source": [
    "Чем больше становится размер ваших программ, тем чаще у вас будет возникать желание выделить какие-то фрагменты -> в отдельные функции. Также некоторые функции можно выделить в отдельный файл. Сделать это можно с помощью модуля. Фактически модуль содержит некоторые функции и данные в отдельном файле. Объекты из одного модуля можно импортировать в другие модули."
   ]
  },
  {
   "cell_type": "markdown",
   "id": "0c9b02ea",
   "metadata": {},
   "source": [
    "* Модуль содержит функции и данные в отдельном файле.\n",
    "* Объекты из модуля можно импортировать в другие модули.\n",
    "* Имя файла = имя_модуля.py"
   ]
  },
  {
   "cell_type": "markdown",
   "id": "6cf59b10",
   "metadata": {},
   "source": [
    "#### Импорт модуля"
   ]
  },
  {
   "cell_type": "markdown",
   "id": "2d409ce1",
   "metadata": {},
   "source": [
    "Рассмотрим файл my_module.py\n",
    "Пусть в нём описана функция foo()"
   ]
  },
  {
   "cell_type": "code",
   "execution_count": 9,
   "id": "dd83f069",
   "metadata": {},
   "outputs": [],
   "source": [
    "# \"scripts.\" - папка, в которой лежит модуль\n",
    "import scripts.my_module "
   ]
  },
  {
   "cell_type": "code",
   "execution_count": 10,
   "id": "fea739cc",
   "metadata": {},
   "outputs": [
    {
     "data": {
      "text/plain": [
       "['__builtins__',\n",
       " '__cached__',\n",
       " '__doc__',\n",
       " '__file__',\n",
       " '__loader__',\n",
       " '__name__',\n",
       " '__package__',\n",
       " '__spec__',\n",
       " 'foo']"
      ]
     },
     "execution_count": 10,
     "metadata": {},
     "output_type": "execute_result"
    }
   ],
   "source": [
    "dir(scripts.my_module)"
   ]
  },
  {
   "cell_type": "code",
   "execution_count": 1,
   "id": "4fe7af3e",
   "metadata": {},
   "outputs": [],
   "source": [
    "# импортируем явно, одну функцию\n",
    "from scripts.my_module import foo"
   ]
  },
  {
   "cell_type": "code",
   "execution_count": 13,
   "id": "9a95339f",
   "metadata": {},
   "outputs": [
    {
     "data": {
      "text/plain": [
       "4"
      ]
     },
     "execution_count": 13,
     "metadata": {},
     "output_type": "execute_result"
    }
   ],
   "source": [
    "foo(2)"
   ]
  },
  {
   "cell_type": "code",
   "execution_count": 8,
   "id": "996b2ac3",
   "metadata": {},
   "outputs": [],
   "source": [
    "# импортируем все функции\n",
    "import scripts.my_module import*"
   ]
  },
  {
   "cell_type": "code",
   "execution_count": null,
   "id": "beb11933",
   "metadata": {},
   "outputs": [],
   "source": [
    "foo2(3)"
   ]
  },
  {
   "cell_type": "code",
   "execution_count": null,
   "id": "10f48f40",
   "metadata": {},
   "outputs": [],
   "source": [
    "# переименовываем алиасом как удобно\n",
    "from scripts.my_module import foo as my_foo"
   ]
  },
  {
   "cell_type": "markdown",
   "id": "af78f7cf",
   "metadata": {},
   "source": [
    "#### Стандартные модули"
   ]
  },
  {
   "cell_type": "markdown",
   "id": "cb187666",
   "metadata": {},
   "source": [
    "* Python распространяется с бибилотекой стандартных модулей \\\n",
    "https://docs.python.org/3/library/"
   ]
  },
  {
   "cell_type": "markdown",
   "id": "305aade2",
   "metadata": {},
   "source": [
    "    Пример некоторых модулей\n",
    "    Аргументы командной строки\n",
    "   * Модуль sys"
   ]
  },
  {
   "cell_type": "markdown",
   "id": "565f7c0f",
   "metadata": {},
   "source": [
    "sys.argv - список аргументов командной строки"
   ]
  },
  {
   "cell_type": "code",
   "execution_count": 13,
   "id": "ecabc98a",
   "metadata": {},
   "outputs": [
    {
     "name": "stdout",
     "output_type": "stream",
     "text": [
      "D:\\PROGRAM\\Anaconda3\\lib\\site-packages\\ipykernel_launcher.py\n",
      "-f\n",
      "C:\\Users\\Егор\\AppData\\Roaming\\jupyter\\runtime\\kernel-96c00c10-28d6-4747-8d8a-513ac872e034.json\n",
      "3\n"
     ]
    }
   ],
   "source": [
    "import sys\n",
    "\n",
    "for i in sys.argv:\n",
    "    print(i)\n",
    "print(len(sys.argv))"
   ]
  },
  {
   "cell_type": "markdown",
   "id": "5a42bd3a",
   "metadata": {},
   "source": [
    "#### Запуск внешних процессов"
   ]
  },
  {
   "cell_type": "markdown",
   "id": "ba59537f",
   "metadata": {},
   "source": [
    "* Модуль subprocess"
   ]
  },
  {
   "cell_type": "code",
   "execution_count": 14,
   "id": "95d6e738",
   "metadata": {},
   "outputs": [],
   "source": [
    "import subprocess"
   ]
  },
  {
   "cell_type": "code",
   "execution_count": null,
   "id": "d4a818dc",
   "metadata": {},
   "outputs": [],
   "source": [
    "subprocess.call(args, *, stdin=None, stdout=None, \n",
    "                stderr=None, shell=False, timeout=None)"
   ]
  },
  {
   "cell_type": "markdown",
   "id": "290bdd96",
   "metadata": {},
   "source": [
    "Запускает программу в соответствии с аргументами (args). Дожидается выполнения и возвращает код возврата.\\\n",
    "Например,"
   ]
  },
  {
   "cell_type": "code",
   "execution_count": 20,
   "id": "525fd8f3",
   "metadata": {},
   "outputs": [
    {
     "data": {
      "text/plain": [
       "0"
      ]
     },
     "execution_count": 20,
     "metadata": {},
     "output_type": "execute_result"
    }
   ],
   "source": [
    "\n",
    "subprocess.call([\"python\", \"-h\"])"
   ]
  },
  {
   "cell_type": "markdown",
   "id": "473c570f",
   "metadata": {},
   "source": [
    "Аргументы, показанные выше, являются лишь некоторыми общими.\\\n",
    "Полная сигнатура функции такая же, как и у **Popen** конструктора — эта функция передает все предоставленные аргументы, кроме времени ожидания, непосредственно в этот интерфейс.\\\n",
    "\n",
    "по умолчанию в subprocess.call вывод внешней программы, которую мы указали в subprocess.call, перенаправляется тоже на стандартный вывод в консоль, и вывод \"нашей\" программы и \"внешней\" смешивается\\\n",
    "чтобы этого избежать\\\n",
    "если перенаправить вывод вызываемой программы, например, в stdin=None(вместо None указать внешний файл 'ouf')\\\n",
    "также ошибки можно перенаправить в stderr=ouf_file"
   ]
  },
  {
   "cell_type": "markdown",
   "id": "41374c07",
   "metadata": {},
   "source": [
    "### 3.5.2 Задача№1 <font color='green'>import</font>  math"
   ]
  },
  {
   "cell_type": "markdown",
   "id": "e74f281c",
   "metadata": {},
   "source": [
    "Напишите программу, которая подключает модуль math и, используя значение числа **π** (пи/pi)\\\n",
    "из этого модуля, находит для переданного ей на стандартный ввод радиуса круга периметр этого круга и выводит его на стандартный вывод."
   ]
  },
  {
   "cell_type": "code",
   "execution_count": 3,
   "id": "b357b2e2",
   "metadata": {},
   "outputs": [],
   "source": [
    "import math"
   ]
  },
  {
   "cell_type": "code",
   "execution_count": 4,
   "id": "af74cd74",
   "metadata": {},
   "outputs": [
    {
     "data": {
      "text/plain": [
       "3.141592653589793"
      ]
     },
     "execution_count": 4,
     "metadata": {},
     "output_type": "execute_result"
    }
   ],
   "source": [
    "math.pi"
   ]
  },
  {
   "cell_type": "code",
   "execution_count": 5,
   "id": "cdd63ee7",
   "metadata": {},
   "outputs": [
    {
     "name": "stdout",
     "output_type": "stream",
     "text": [
      "10.0\n"
     ]
    },
    {
     "data": {
      "text/plain": [
       "62.83185307179586"
      ]
     },
     "execution_count": 5,
     "metadata": {},
     "output_type": "execute_result"
    }
   ],
   "source": [
    "r = float(input())\n",
    "p = 2 * math.pi * r\n",
    "print(p)"
   ]
  },
  {
   "cell_type": "markdown",
   "id": "9225da04",
   "metadata": {},
   "source": [
    "### 3.5.2 Задача№2 <font color='green'>import</font>  sys"
   ]
  },
  {
   "cell_type": "markdown",
   "id": "e94d171c",
   "metadata": {},
   "source": [
    "Напишите программу, которая запускается из консоли и печатает значения всех переданных аргументов на экран\\\n",
    "(имя скрипта выводить не нужно). Не изменяйте порядок аргументов при выводе.\n",
    "\n",
    "Для доступа к аргументам командной строки программы подключите модуль sys и используйте переменную argv из этого модуля.\n",
    "\n",
    "Пример работы программы:"
   ]
  },
  {
   "cell_type": "code",
   "execution_count": 7,
   "id": "d1afed49",
   "metadata": {},
   "outputs": [],
   "source": [
    "import sys"
   ]
  },
  {
   "cell_type": "code",
   "execution_count": 16,
   "id": "25227f32",
   "metadata": {},
   "outputs": [
    {
     "name": "stdout",
     "output_type": "stream",
     "text": [
      "D:\\PROGRAM\\Anaconda3\\lib\\site-packages\\ipykernel_launcher.py\n",
      "-f\n",
      "C:\\Users\\Егор\\AppData\\Roaming\\jupyter\\runtime\\kernel-13a93996-04c6-4d17-a32b-b884964fa469.json\n"
     ]
    }
   ],
   "source": [
    "for arg in sys.argv:\n",
    "    print(arg)"
   ]
  },
  {
   "cell_type": "code",
   "execution_count": 15,
   "id": "dcf771ed",
   "metadata": {},
   "outputs": [
    {
     "name": "stdout",
     "output_type": "stream",
     "text": [
      "1\n",
      "4\n",
      "345345\n"
     ]
    }
   ],
   "source": [
    "for i in [1, 4, 345345]:\n",
    "    print(i)"
   ]
  },
  {
   "cell_type": "markdown",
   "id": "e14f53a0",
   "metadata": {},
   "source": [
    "Мои понимания-подсказки по решению задачи:\n",
    "\n",
    "1. sys.argv возвращает список.\n",
    "\n",
    "2. В этом списке первый элемент (с индексом [0]) - это наименование файла. \n",
    "\n",
    "3. При выводе-печати этот элемент [0] нам не нужен, нужно его пропустить, применяем срезы!\n",
    "\n",
    "Либо как вариант - через цикл перебора списка, но это слишком длинно!\n",
    "\n",
    "4. Номер последнего элемента (количество аргументов) в тестах может быть различным.\n",
    "А не только 2, как в условии задания! Определяем длину списка! Применяем его в срезе.\n",
    "\n",
    "Хотя и это необязательно: срез до конца списка сделать! И длину списка определять не надо!\n",
    "\n",
    "5. Для вывода применяем конструкцию - печать (*список со срезами)\n",
    "\n",
    " \n",
    "\n",
    "P.s. То что нужно сделать с командной строкой, предварительно поменять текущий каталог на рабочий каталог интерпретатора языка - это я понимал-знал.\n",
    "Но задачу сделал чисто на телефоне! Решение приняли.\n",
    "\n",
    "То есть с командной строкой, с  cmd, я не заморачивался, это неважная часть задания, главное чтобы код решения был верный!"
   ]
  },
  {
   "cell_type": "code",
   "execution_count": 4,
   "id": "25b31f5f",
   "metadata": {},
   "outputs": [
    {
     "name": "stdout",
     "output_type": "stream",
     "text": [
      "-f\n",
      "C:\\Users\\Егор\\AppData\\Roaming\\jupyter\\runtime\\kernel-10c79a48-567b-40f2-8731-1f1b49b9fcf3.json\n"
     ]
    }
   ],
   "source": [
    "# сделать пометку - почему?\n",
    "import sys\n",
    "for arg in range(1, len(sys.argv)):\n",
    "    print(sys.argv[arg])"
   ]
  },
  {
   "cell_type": "code",
   "execution_count": 18,
   "id": "8d60765d",
   "metadata": {},
   "outputs": [
    {
     "name": "stdout",
     "output_type": "stream",
     "text": [
      "1 2 3 4 5\n"
     ]
    }
   ],
   "source": [
    "list = [1,2,3,4,5]\n",
    "print(*list)"
   ]
  },
  {
   "attachments": {
    "image-2.png": {
     "image/png": "[encoded data removed]"
    }
   },
   "cell_type": "markdown",
   "id": "e224ac16",
   "metadata": {},
   "source": [
    "![image-2.png](attachment:image-2.png)"
   ]
  },
  {
   "cell_type": "markdown",
   "id": "59462bda",
   "metadata": {},
   "source": [
    "## 3.6 Установка дополнительных модулей"
   ]
  },
  {
   "cell_type": "markdown",
   "id": "37107380",
   "metadata": {},
   "source": [
    "### 3.6.2 Задача№1 Обработайте индивидуальный набор данных за отведённое время\n",
    "Скачайте файл. В нём указан адрес другого файла, который нужно скачать с использованием модуля requests и посчитать число строк в нём.\n",
    "\n",
    "Используйте функцию get для получения файла (имеет смысл вызвать метод strip к передаваемому параметру, чтобы убрать пробельные символы по краям).\n",
    "\n",
    "После получения файла вы можете проверить результат, обратившись к полю text. Если результат работы скрипта не принимается, проверьте поле url на правильность. Для подсчёта количества строк разбейте текст с помощью метода splitlines.\n",
    "\n",
    "В поле ответа введите одно число или отправьте файл, содержащий одно число."
   ]
  },
  {
   "cell_type": "code",
   "execution_count": 4,
   "id": "7a24f5e3",
   "metadata": {},
   "outputs": [],
   "source": [
    "import requests"
   ]
  },
  {
   "cell_type": "code",
   "execution_count": 5,
   "id": "9d18f526",
   "metadata": {},
   "outputs": [],
   "source": [
    "url='https://stepic.org/media/attachments/course67/3.6.2/088.txt'\n",
    "r = requests.get(url)"
   ]
  },
  {
   "cell_type": "code",
   "execution_count": 8,
   "id": "9f2cee3e",
   "metadata": {},
   "outputs": [
    {
     "name": "stdout",
     "output_type": "stream",
     "text": [
      "The bloodstream in this woman was new and it seemed to have done a new thing to her. Her cheeks were very pink and her lips were very fresh and full of color and they looked soft and relaxed. Someone else's blood there. If only someone else's flesh and brain and memory. If only they could have taken her mind along to the dry cleaner's and emptied the pockets and steamed and cleansed it and reblocked it and brought it back in the morning. If only ...\n",
      "\n",
      "He got up and put back the drapes and opened the windows wide to let the night air in. It was two o'clock in the morning. Was it only an hour ago, Clarisse McClellan in the street, and him coming in, and the dark room and his foot kicking the little crystal bottle? Only an hour, but the world had melted down and sprung up in a new and colorless form.\n",
      "\n",
      "Laughter blew across the moon-colored lawn from the house of Clarisse and her father and mother and the uncle who smiled so quietly and so earnestly.  Above all, their laughter was relaxed and hearty and not forced in any way, coming from the house that was so brightly lit this late at night while all the other houses were kept to themselves in darkness. Montag heard the voices talking, talking, talking, giving, talking, weaving, reweaving their hypnotic web.\n",
      "\n",
      "Montag moved out through the French windows and crossed the lawn, without even thinking of it. He stood outside the talking house in the shadows, thinking he might even tap on their door and whisper, \"Let me come in. I won't say anything. I just want to listen. What is it you're saying?\"\n",
      "\n",
      "But instead he stood there, very cold, his face a mask of ice, listening to a man's voice (the uncle?) moving along at an easy pace:\n",
      "\n",
      "\"Well, after all, this is the age of the disposable tissue. Blow your nose on a person, wad them, flush them away, reach for another, blow, wad, flush.  Everyone using everyone else's coattails. How are you  upposed to root for the home team when you don't even have a program or know the names? For that matter, what color jerseys are they wearing as they trot out on the field?\"\n",
      "\n",
      "Montag moved back to his own house, left the window wide, checked Mildred, tucked the covers about her carefully, and then lay down with the moonlight on his cheekbones and on the frowning ridges in his brow, with the moonlight distilled in each eye to form a silver cataract there.\n",
      "\n",
      "One drop of rain. Clarisse. Another drop. Mildred. A third. The uncle. A fourth. The fire tonight. One, Clarisse. Two, Mildred. Three, uncle. Four, fire. One, Mildred, two, Clarisse. One, two, three, four, five, Clarisse, Mildred, uncle, fire, sleeping tablets, men disposable tissue, coattails, blow, wad, flush, Clarisse, Mildred, uncle, fire, tablets, tissues, blow, wad, flush.  One, two, three, one, two, three! Rain. The storm.  The uncle laughing. Thunder falling downstairs. The whole world pouring down. The fire gushing up in a volcano. All rushing on down around in a spouting roar and rivering stream toward morning.\n",
      "\n",
      "\"I don't know anything any more,\" he said, and let a sleep lozenge dissolve on his tongue.\n",
      "\n",
      "***\n",
      "\n",
      "At nine in the morning, Mildred's bed was empty.\n",
      "\n",
      "Montag got up quickly, his heart pumping, and ran down the hall and stopped at the kitchen door.\n",
      "\n",
      "Toast popped out of the silver toaster, was seized by a spidery metal hand that drenched it with melted butter.\n",
      "\n",
      "Mildred watched the toast delivered to her plate. She had both ears plugged with electronic bees that were humming the hour away. She looked up suddenly, saw him, and nodded.\n",
      "\n",
      "\"You all right?\" he asked.\n",
      "\n",
      "She was an expert at lip reading from ten years of apprenticeship at Seashell ear thimbles. She nodded again. She set the toaster clicking away at another piece of bread.\n",
      "\n",
      "Montag sat down.\n",
      "\n",
      "His wife said, \"I don't know why I should be so hungry.\"\n",
      "\n",
      "\"You --\"\n",
      "\n",
      "\"I'm hungry.\"\n",
      "\n",
      "\"Last night,\" he began.\n",
      "\n",
      "\"Didn't sleep well. Feel terrible,\" she said. \"God, I'm hungry. I can't figure it.\"\n",
      "\n",
      "\"Last night --\" he said again.\n",
      "\n",
      "She watched his lips casually. \"What about last night?\"\n",
      "\n",
      "\"Don't you remember?\"\n",
      "\n",
      "\"What? Did we have a wild party or something? Feel like I've a hangover. God, I'm hungry. Who was here?\"\n",
      "\n",
      "\"A few people,\" he said.\n",
      "\n",
      "\"That's what I thought.\" She chewed her toast. \"Sore stomach, but I'm hungry as all get-out. Hope I didn't do anything foolish at the party.\"\n",
      "\n",
      "\"No,\" he said, quietly.\n",
      "\n",
      "The toaster spidered out a piece of buttered bread for him. He held it in his hand, feeling obligated.\n",
      "\n",
      "\"You don't look so hot yourself,\" said his wife.\n",
      "\n",
      "***\n",
      "\n",
      "In the late afternoon it rained and the entire world was dark gray. He stood in the hall of his house, putting on his badge with the orange salamander burning across it. He stood looking up at the air-conditioning vent in the hall for a long time. His wife in the TV parlor paused long enough from reading her script to glance up. \"Hey,\" she said. \"The  man's thinking!\"\n",
      "\n",
      "\"Yes,\" he said. \"I wanted to talk to you.\" He paused. \"You took all the pills in your bottle last night.\"\n",
      "\n",
      "\"Oh, I wouldn't do that,\" she said, surprised.\n",
      "\n",
      "\"The bottle was empty.\"\n",
      "\n",
      "\"I wouldn't do a thing like that. Why would I do a thing like that?\" she said.\n",
      "\n",
      "\"Maybe you took two pills and forgot and took two more, and forgot again and took two more, and were so dopey you kept right on until you had thirty or forty of them in you.\"\n",
      "\n",
      "\"Heck,\" she said, \"what would I want to go and do a silly thing like that for?\"\n",
      "\n",
      "\"I don't know,\" he said.\n",
      "\n",
      "She was quite obviously waiting for him to go. \"I didn't do that,\" she said. \"Never in a billion years.\" \n",
      "\n",
      "\"All right, if you say so,\" he said.\n",
      "\n",
      "\"That's what the lady said.\" She turned back to her script.\n",
      "\n",
      "\"What's on this afternoon?\" he asked, tiredly.\n",
      "\n",
      "She didn't look up from the script again. \"Well, this is a play comes on the wall-to-wall circuit in ten minutes. They mailed me my part this morning. I sent in some boxtops. They write the script with one part missing. It's a new idea. The homemaker, that's me, is the missing part. When it comes time for the missing lines, they all look at me out of the three walls and I say the lines. Here, for instance, the man says, 'What do you think of this whole idea, Helen?' And he looks at me sitting here center stage, see? And I say, I say --\" She paused and ran her finger under a line on  the script. \"'I think that's fine!' And then they go on with the play until he says, 'Do you agree to that, Helen?' and I say, 'I sure do!' Isn't that fun, Guy?\"\n",
      "\n",
      "He stood in the hall, looking at her.\n",
      "\n",
      "\"It's sure fun,\" she said.\n",
      "\n",
      "\"What's the play about?\"\n",
      "\n",
      "\"I just told you. There are these people named Bob and Ruth and Helen.\"\n",
      "\n",
      "\"Oh.\"\n",
      "\n",
      "\"It's really fun. It'll be even more fun when we can afford to have the fourth wall installed. How long you figure before we save up and get the fourth wall torn out and a fourth wall-TV put in? It's only two thousand dollars.\"\n",
      "\n",
      "\"That's one-third of my yearly pay.\"\n",
      "\n",
      "\"It's only two thousand dollars,\" she replied. \"And I should think you'd consider me sometimes. If we had a fourth wall, why it'd be just like this room wasn't ours at all, but all kinds of exotic people's rooms. We could do without a few things.\"\n",
      "\n",
      "\"We're already doing without a few things to pay for the third wall. It was put in only two months ago, remember? \n",
      "\n",
      "\"Is that all it was?\" She sat looking at him for a long moment. \"Well, good-bye, dear.\"\n",
      "\n",
      "\"Good-bye,\" he said. He stopped and turned around. \"Does it have a happy ending?\" \n",
      "\n",
      "\"I haven't read that far.\"\n",
      "\n",
      "He walked over, read the last page, nodded, folded the script, and handed it back to her. He walked out of the house into the rain.\n",
      "\n",
      "***\n",
      "\n",
      "The rain was thinning away and the girl was walking in the center of the sidewalk with her head up and the few drops falling on her face. She smiled when she saw Montag.\n",
      "\n",
      "\"Hello!\"\n",
      "\n",
      "He said hello and then said, \"What are you up to now?\"\n",
      "\n",
      "\"I'm still crazy. The rain feels good. I love to walk in it.\"\n",
      "\n",
      "\"I don't think I'd like that,\" he said.\n",
      "\n",
      "\"You might if you tried. \"\n",
      "\n",
      "\"I never have.\"\n",
      "\n",
      "She licked her lips. \"Rain even tastes good.\"\n",
      "\n",
      "\"What do you do, go around trying everything once?\" he asked.\n",
      "\n",
      "\"Sometimes twice.\" She looked at something in her hand.\n",
      "\n",
      "\n"
     ]
    }
   ],
   "source": [
    "print(r.text)"
   ]
  },
  {
   "cell_type": "code",
   "execution_count": 7,
   "id": "ec69ec60",
   "metadata": {},
   "outputs": [
    {
     "data": {
      "text/plain": [
       "138"
      ]
     },
     "execution_count": 7,
     "metadata": {},
     "output_type": "execute_result"
    }
   ],
   "source": [
    "r.text.count('\\n')"
   ]
  },
  {
   "cell_type": "markdown",
   "id": "c701d290",
   "metadata": {},
   "source": [
    "### 3.6.3 Задача№2 Обработайте индивидуальный набор данных за отведённое время\n",
    "Имеется набор файлов, каждый из которых, кроме последнего, содержит имя следующего файла.\\\n",
    "Первое слово в тексте последнего файла: \"We\".\n",
    "\n",
    "Скачайте предложенный файл. В нём содержится ссылка на первый файл из этого набора.\n",
    "\n",
    "Все файлы располагаются в каталоге по адресу:\n",
    "https://stepic.org/media/attachments/course67/3.6.3/\n",
    "\n",
    "Загрузите содержимое ﻿последнего файла из набора, как ответ на это задание."
   ]
  },
  {
   "cell_type": "code",
   "execution_count": 2,
   "id": "3ffdfae8",
   "metadata": {},
   "outputs": [],
   "source": [
    "# import requests"
   ]
  },
  {
   "cell_type": "code",
   "execution_count": 20,
   "id": "b9479c31",
   "metadata": {},
   "outputs": [
    {
     "name": "stdout",
     "output_type": "stream",
     "text": [
      "We are the champions, my friends,\n",
      "And we'll keep on fighting 'til the end.\n",
      "We are the champions.\n",
      "We are the champions.\n",
      "No time for losers\n",
      "'Cause we are the champions of the world.\n"
     ]
    }
   ],
   "source": [
    "url_first = 'https://stepic.org/media/attachments/course67/3.6.3/699991.txt' # вставляем скачанную ссылку\n",
    "file = requests.get(url_first)\n",
    "url = 'https://stepic.org/media/attachments/course67/3.6.3/'\n",
    "oconc = file.text\n",
    "url_plus_oconc = url + oconc\n",
    "\n",
    "while oconc[:2] != \"We\":\n",
    "    oconc = file.text\n",
    "    url_plus_oconc = url + oconc\n",
    "    file = requests.get(url_plus_oconc)\n",
    "    if oconc[:2] == \"We\":\n",
    "        print(oconc)\n",
    "        break"
   ]
  },
  {
   "cell_type": "markdown",
   "id": "b13315b1",
   "metadata": {},
   "source": [
    "## 3.7 Задачи по материалам недели"
   ]
  },
  {
   "cell_type": "markdown",
   "id": "8340c9be",
   "metadata": {},
   "source": [
    "#### 3.7.1 Задача№1\n",
    "Напишите программу, которая принимает на стандартный вход список игр футбольных команд с результатом матча и выводит на стандартный вывод сводную таблицу результатов всех матчей.\n",
    "\n",
    "За победу команде начисляется 3 очка, за поражение — 0, за ничью — 1.\n",
    "\n",
    "Формат ввода следующий:\\\n",
    "В первой строке указано целое число \n",
    "\n",
    "1)n — количество завершенных игр.\\\n",
    "После этого идет \n",
    "n строк, в которых записаны результаты игры в следующем формате:\\\n",
    "2)Первая_команда; \\\n",
    "3)Забито_первой_командой; \\\n",
    "4)Вторая_команда; \\\n",
    "5)Забито_второй_командой\n",
    "\n",
    "Вывод программы необходимо оформить следующим образом:\\\n",
    "Команда:\\\n",
    "1)Всего_игр \\\n",
    "2)Побед \\\n",
    "3)Ничьих \\\n",
    "4)Поражений \\\n",
    "5)Всего_очков\n",
    "\n",
    "Конкретный пример ввода-вывода приведён ниже.\n",
    "\n",
    "Порядок вывода команд произвольный.\n",
    "\n",
    "**Sample Input:**\\\n",
    "3\\\n",
    "Спартак;9;Зенит;10\\\n",
    "Локомотив;12;Зенит;3\\\n",
    "Спартак;8;Локомотив;15\n",
    "\n",
    "**Sample Output:**\\\n",
    "Спартак:2 0 0 2 0\\\n",
    "Зенит:2 1 0 1 3\\\n",
    "Локомотив:2 2 0 0 6"
   ]
  },
  {
   "cell_type": "markdown",
   "id": "e1453b71",
   "metadata": {},
   "source": [
    "code review согласно: https://habr.com/ru/articles/506006/"
   ]
  },
  {
   "cell_type": "code",
   "execution_count": 96,
   "id": "097f2eb1",
   "metadata": {},
   "outputs": [
    {
     "name": "stdout",
     "output_type": "stream",
     "text": [
      "3\n",
      "Спартак;10;Зенит;10  \n",
      "Локомотив;12;Зенит;3  \n",
      "Спартак;8;Локомотив;15\n",
      "Спартак:2 0 1 1 1\n",
      "Зенит:2 0 1 1 1\n",
      "Локомотив:2 2 0 0 6\n"
     ]
    }
   ],
   "source": [
    "# 1-ый способ!\n",
    "# Ввод количества строк. Ввод самих строк. Разбиение строк.\n",
    "A = []\n",
    "for i in range(int(input())):\n",
    "    n = input().split(';')\n",
    "    f = [h for idx, h in enumerate(n)]\n",
    "    A.append(f)\n",
    "\n",
    "for s in A:\n",
    "    for idx, n in enumerate(s):\n",
    "        if idx%2==1:\n",
    "            s[idx] = int(n)\n",
    "        else:\n",
    "            continue\n",
    "\n",
    "dict_probniy = dict(zip())\n",
    "\n",
    "command_matches = []\n",
    "for s in A:\n",
    "    command_matches += s[::2] \n",
    "\n",
    "#     1.Всего_игр \n",
    "dict_probniy = {i:[command_matches.count(i)] for i in command_matches}\n",
    "\n",
    "#добавим  + [0, 0, 0, 0] к значению кол-ва игр в нашем словаре к-му ключу\n",
    "for key in dict_probniy.keys():\n",
    "    dict_probniy[key] = dict_probniy[key] + [0, 0, 0, 0]\n",
    "    \n",
    "# сделать code review согласно статье под задачей (выше)\n",
    "\n",
    "#              0  1  2  3  4\n",
    "# итого у нас [2, 0, 0, 0, 0]\n",
    "\n",
    "for s in A:\n",
    "    if s[1::2][0] > s[1::2][1]: # 2.Побед  \n",
    "        dict_probniy[s[::2][0]][1] += 1 # победившему + очко на место индекса 1\n",
    "        dict_probniy[s[::2][1]][3] += 1 # проигравшему + очко на место индекса 3\n",
    "        \n",
    "    elif s[1::2][0] < s[1::2][1]: # 4.Поражений\n",
    "        dict_probniy[s[::2][0]][3] += 1 # проигравшему + очко на место индекса 3\n",
    "        dict_probniy[s[::2][1]][1] += 1 # победившему + очко на место индекса 1\n",
    "        \n",
    "    elif s[1::2][0] == s[1::2][1]: # 3.Ничьих \n",
    "        dict_probniy[s[::2][0]][2] += 1 # + очко каждому в ничью\n",
    "        dict_probniy[s[::2][1]][2] += 1 # + очко каждому в ничью\n",
    "        \n",
    "# всего очков команде за победу команде начисляется 3 очка, за поражение — 0, за ничью — 1.\n",
    "for key in dict_probniy.keys():\n",
    "    dict_probniy[key][4] += (3 * dict_probniy[key][1]) + (0 * dict_probniy[key][3]) + (1 * dict_probniy[key][2])\n",
    "\n",
    "# вывод финальный\n",
    "for key, value in dict_probniy.items():\n",
    "    fixed_str = [str(cel) for cel in value]\n",
    "    print(key + ':' + ' '.join(fixed_str))"
   ]
  },
  {
   "cell_type": "code",
   "execution_count": 94,
   "id": "6f15aac2",
   "metadata": {},
   "outputs": [
    {
     "name": "stdout",
     "output_type": "stream",
     "text": [
      "3\n",
      "Спартак;9;Зенит;10  \n",
      "Локомотив;12;Зенит;3  \n",
      "Спартак;8;Локомотив;15\n",
      "Спартак: 2 0 0 2 0\n",
      "Зенит: 2 1 0 1 3\n",
      "Локомотив: 2 2 0 0 6\n"
     ]
    }
   ],
   "source": [
    "# 2-ой способ с помощью get для словаря (так лучше, согласно code review согласно: https://habr.com/ru/articles/506006/). \n",
    "# Плюс другой вывод значений словаря. Более простой.\n",
    "\n",
    "A = []\n",
    "for i in range(int(input())):\n",
    "    n = input().split(';')\n",
    "    f = [h for idx, h in enumerate(n)]\n",
    "    A.append(f)\n",
    "\n",
    "for s in A:\n",
    "    for idx, n in enumerate(s):\n",
    "        if idx%2==1:\n",
    "            s[idx] = int(n)\n",
    "        else:\n",
    "            continue\n",
    "\n",
    "dict_probniy = dict(zip())\n",
    "\n",
    "command_matches = []\n",
    "for s in A:\n",
    "    command_matches += s[::2] \n",
    "\n",
    "#     1.Всего_игр \n",
    "dict_probniy = {i:[command_matches.count(i)] for i in command_matches}\n",
    "\n",
    "#добавим  + [0, 0, 0, 0] к значению кол-ва игр в нашем словаре к-му ключу\n",
    "for key in dict_probniy.keys():\n",
    "    dict_probniy[key] = dict_probniy[key] + [0, 0, 0, 0]\n",
    "    \n",
    "# # 2)Победы и 4)Поражения и 3)Ничьи\n",
    "for s in A: \n",
    "    if s[1] > s[3]: # Первая команда победила, вторая проиграла\n",
    "        dict_probniy.get(s[0])[1] += 1\n",
    "        dict_probniy.get(s[2])[3] += 1\n",
    "    if s[1] < s[3]: # Вторая команда победила, первая проиграла\n",
    "        dict_probniy.get(s[0])[3] += 1\n",
    "        dict_probniy.get(s[2])[1] += 1\n",
    "    if s[1] == s[3]: # Если ничья\n",
    "        dict_probniy.get(s[0])[2] += 1\n",
    "        dict_probniy.get(s[2])[2] += 1\n",
    "        \n",
    "# всего очков команде за победу команде начисляется 3 очка, за поражение — 0, за ничью — 1.\n",
    "for key in dict_probniy.keys():\n",
    "    dict_probniy[key][4] += (3 * dict_probniy[key][1]) + (0 * dict_probniy[key][3]) + (1 * dict_probniy[key][2])\n",
    "    \n",
    "# вывод финальный\n",
    "for key, value in dict_probniy.items():\n",
    "    print((key+':'), *value, end='\\n')"
   ]
  },
  {
   "cell_type": "markdown",
   "id": "beb067af",
   "metadata": {},
   "source": [
    "#### 3.7.2 Задача№2 (Дополнительная)\n",
    "В какой-то момент в Институте биоинформатики биологи перестали понимать, что говорят информатики: они говорили каким-то странным набором звуков.\n",
    "\n",
    "В какой-то момент один из биологов раскрыл секрет информатиков: они использовали при общении подстановочный шифр, т.е. заменяли каждый символ исходного сообщения на соответствующий ему другой символ. Биологи раздобыли ключ к шифру и теперь нуждаются в помощи:\n",
    "\n",
    "Напишите программу, которая умеет шифровать и расшифровывать шифр подстановки. Программа принимает на вход две строки одинаковой длины, на первой строке записаны символы исходного алфавита, на второй строке — символы конечного алфавита, после чего идёт строка, которую нужно зашифровать переданным ключом, и ещё одна строка, которую нужно расшифровать.\n",
    "\n",
    "Пусть, например, на вход программе передано:\\\n",
    "abcd\\\n",
    "*d%#\\\n",
    "abacabadaba\\\n",
    "#*%*d*%\n",
    "\n",
    "Это значит, что символ a исходного сообщения заменяется на символ * в шифре, b заменяется на d, c — на % и d — на #.\\\n",
    "Нужно зашифровать строку abacabadaba и расшифровать строку #*%*d*% с помощью этого шифра. \\\n",
    "Получаем следующие строки, которые и передаём на вывод программы:\\\n",
    "*d*%*d*#*d*\\\n",
    "dacabac"
   ]
  },
  {
   "cell_type": "code",
   "execution_count": 1,
   "id": "258881bf",
   "metadata": {},
   "outputs": [
    {
     "name": "stdout",
     "output_type": "stream",
     "text": [
      "abcd\n",
      "*d%#\n",
      "abacabadaba\n",
      "#*%*d*%\n",
      "*d*%*d*#*d*\n",
      "dacabac\n"
     ]
    }
   ],
   "source": [
    "one = input()\n",
    "two = input()\n",
    "three = input()\n",
    "four = input()\n",
    "\n",
    "if len(one) != len(two):\n",
    "    print('Неверное введено кол-во символов')\n",
    "    \n",
    "code = []\n",
    "decode = []\n",
    "for c in one:\n",
    "    code.append(c)\n",
    "for d in two:\n",
    "    decode.append(d)\n",
    "    \n",
    "dictionary = dict(zip(code, decode))\n",
    "dictionary_decode = dict(zip(decode, code))\n",
    "\n",
    "\n",
    "# вывод \n",
    "lst_code = [dictionary.get(i) for i in three]\n",
    "lst_decode = [dictionary_decode.get(i) for i in four]\n",
    "\n",
    "print(*lst_code, sep='')\n",
    "print(*lst_decode, sep='') "
   ]
  },
  {
   "cell_type": "markdown",
   "id": "a02598b1",
   "metadata": {},
   "source": []
  },
  {
   "cell_type": "markdown",
   "id": "fc98aa3d",
   "metadata": {},
   "source": [
    "#### 3.7.3 Задача№3 \n",
    "Простейшая система проверки орфографии может быть основана на использовании списка известных слов.\n",
    "Если введённое слово не найдено в этом списке, оно помечается как \"ошибка\".\n",
    "\n",
    "Попробуем написать подобную систему.\n",
    "\n",
    "На вход программе первой строкой передаётся количество d известных нам слов, \\\n",
    "после чего на d строках указываются эти слова. \\\n",
    "Затем передаётся количество l строк текста для проверки, \\\n",
    "после чего l строк текста.\n",
    "\n",
    "Выведите уникальные \"ошибки\" в произвольном порядке. Работу производите без учёта регистра."
   ]
  },
  {
   "cell_type": "markdown",
   "id": "221ab87a",
   "metadata": {},
   "source": [
    "**Sample Input:**\\\n",
    "4\\\n",
    "champions\\\n",
    "we\\\n",
    "are\\\n",
    "Stepik\\\n",
    "3\\\n",
    "We are the champignons\\\n",
    "We Are The Champions\\\n",
    "Stepic\\\n",
    "**Sample Output:**\\\n",
    "stepic\\\n",
    "champignons\\\n",
    "the"
   ]
  },
  {
   "cell_type": "code",
   "execution_count": 71,
   "id": "357ca8b4",
   "metadata": {},
   "outputs": [
    {
     "name": "stdout",
     "output_type": "stream",
     "text": [
      "4\n",
      "champions\n",
      "we\n",
      "are\n",
      "Stepik\n",
      "3\n",
      "We are the champignons\n",
      "We Are The Champions\n",
      "Stepic\n",
      "the\n",
      "champignons\n",
      "stepic\n"
     ]
    }
   ],
   "source": [
    "kol_words = int(input())\n",
    "words_set = set()\n",
    "for i in range(kol_words):\n",
    "    words = input()\n",
    "    words_set.add(words.lower())\n",
    "\n",
    "kol_strok = int(input())\n",
    "strok_set = set()\n",
    "for k in range(kol_strok):\n",
    "    stroks = input()\n",
    "    for i in stroks.split(' '):\n",
    "        strok_set.add(i.lower())\n",
    "\n",
    "print_set = strok_set - words_set\n",
    "for i in print_set:\n",
    "    print(i)"
   ]
  },
  {
   "cell_type": "markdown",
   "id": "085eb9f5",
   "metadata": {},
   "source": [
    "#### 3.7.4 Задача№4\n",
    "Группа биологов в институте биоинформатики завела себе черепашку.\n",
    "\n",
    "После дрессировки черепашка научилась понимать и запоминать указания биологов следующего вида:\\\n",
    "север 10\\\n",
    "запад 20\\\n",
    "юг 30\\\n",
    "восток 40\\\n",
    "где первое слово — это направление, в котором должна двигаться черепашка, \\\n",
    "а число после слова — это положительное расстояние в сантиметрах, которое должна пройти черепашка.\n",
    "\n",
    "Но команды даются быстро, а черепашка ползёт медленно, и программисты догадались, \\\n",
    "что можно написать программу, которая определит, куда в итоге биологи приведут черепашку. \\\n",
    "Для этого программисты просят вас написать программу, которая выведет точку, \\\n",
    "в которой окажется черепашка после всех команд. \\\n",
    "Для простоты они решили считать, что движение начинается в точке (0, 0), \\\n",
    "и движение на восток увеличивает первую координату, а на север — вторую.\n",
    "\n",
    "Программе подаётся на вход число команд n, которые нужно выполнить черепашке, \\\n",
    "после чего n строк с самими командами. \\\n",
    "Вывести нужно два числа в одну строку: первую и вторую координату конечной точки черепашки. \\\n",
    "Все координаты целочисленные."
   ]
  },
  {
   "cell_type": "markdown",
   "id": "0338c3fe",
   "metadata": {},
   "source": [
    "**Sample Input:**\\\n",
    "4\\\n",
    "север 10\\\n",
    "запад 20\\\n",
    "юг 30\\\n",
    "восток 40\\\n",
    "**Sample Output:**\\\n",
    "20 -20"
   ]
  },
  {
   "cell_type": "code",
   "execution_count": 2,
   "id": "0c6e57a8",
   "metadata": {},
   "outputs": [
    {
     "name": "stdout",
     "output_type": "stream",
     "text": [
      "4\n",
      "север 10\n",
      "запад 20\n",
      "юг 30\n",
      "восток 40\n",
      "20 -20\n"
     ]
    }
   ],
   "source": [
    "comand_cnt = int(input())\n",
    "coord = [0, 0]\n",
    "\n",
    "for i in range(comand_cnt):\n",
    "    dvizh = []\n",
    "    command = input()\n",
    "    dvizh.append(command.split(' ')[0])\n",
    "    dvizh.append(int(command.split(' ')[1]))\n",
    "    if 'север' in dvizh:\n",
    "        coord[1] += dvizh[1]\n",
    "    if 'запад'  in dvizh:\n",
    "        coord[0] -= dvizh[1]\n",
    "    if 'юг' in dvizh:\n",
    "        coord[1] -= dvizh[1]\n",
    "    if 'восток' in dvizh:\n",
    "        coord[0] += dvizh[1]\n",
    "    else:\n",
    "        continue\n",
    "print(*coord)"
   ]
  },
  {
   "cell_type": "markdown",
   "id": "58b9380f",
   "metadata": {},
   "source": [
    "#### 3.7.5 Задача№5\n",
    "Дан файл с таблицей в формате TSV с информацией о росте школьников разных классов.\n",
    "\n",
    "Напишите программу, которая прочитает этот файл и подсчитает для каждого класса средний рост учащегося.\n",
    "\n",
    "Файл состоит из набора строк, каждая из которых представляет собой три поля:\\\n",
    "Класс Фамилия Рост\n",
    "\n",
    "Класс обозначается только числом. Буквенные модификаторы не используются. \\\n",
    "Номер класса может быть от 1 до 11 включительно. \\\n",
    "В фамилии нет пробелов, а в качестве роста используется натуральное число, \\\n",
    "но при подсчёте среднего требуется вычислить значение в виде вещественного числа.\n",
    "\n",
    "Выводить информацию о среднем росте следует в порядке возрастания номера класса (для классов с первого по одиннадцатый).\\\n",
    "Если про какой-то класс нет информации, необходимо вывести напротив него прочерк.\n",
    "\n",
    "В качестве ответа прикрепите файл с полученными данными о среднем росте."
   ]
  },
  {
   "cell_type": "markdown",
   "id": "b5c73d2d",
   "metadata": {},
   "source": [
    "**Sample Input:**\\\n",
    "6\tВяххи\t159\\\n",
    "11\tФедотов\t172\\\n",
    "7\tБондарев\t158\\\n",
    "6\tЧайкина\t153\\\n",
    "**Sample Output:**\\\n",
    "1 -\\\n",
    "2 -\\\n",
    "3 -\\\n",
    "4 -\\\n",
    "5 -\\\n",
    "6 156.0\\\n",
    "7 158.0\\\n",
    "8 -\\\n",
    "9 -\\\n",
    "10 -\\\n",
    "11 172.0"
   ]
  },
  {
   "cell_type": "code",
   "execution_count": 100,
   "id": "89596b71",
   "metadata": {
    "scrolled": true
   },
   "outputs": [],
   "source": [
    "#1. Откроем файл dataset_number_.txt, запишем каждую строку файла в созданный массив massiv_str.\n",
    "massiv_str = []\n",
    "with open('C:/Users/evostrikov/Desktop/folder/dataset_3380_5.txt') as inf:\n",
    "    for line in inf:\n",
    "        line = line.strip()\n",
    "        massiv_str.append(line.split('\\t'))\n",
    "        \n",
    "#2. Создадим словарь, где ключ - номер класса. Значение - пустой список, для роста школьников.   \n",
    "    dict_classes = {i:[] for i in range(1, 12)}\n",
    "    \n",
    "#3. Преобращуем значения строки: Номер класса -> int(), Число роста -> float(). \n",
    "# И добавим рост каждого ученика в список словаря dict_classes (п.2), соответствующего номеру класса по значению в словаре.\n",
    "    for st in massiv_str:\n",
    "        if int(st[0]) in dict_classes.keys():\n",
    "            dict_classes.get(int(st[0])).append(float(st[2]))\n",
    "        else:\n",
    "            continue\n",
    "            \n",
    "#4.Посчитаем средний рост для каждого класса из полученных в (п.3) списков в словаре.\n",
    "# Также обойдём исключение ZeroDivisionError - для тех классов, по росту учеников которых нед данных.\n",
    "    for i in dict_classes:\n",
    "        summa = sum(dict_classes.get(i))\n",
    "        count = len(dict_classes.get(i))\n",
    "        try:\n",
    "            mean = summa / count\n",
    "        except ZeroDivisionError:\n",
    "            mean = '-'\n",
    "        dict_classes[i] = mean\n",
    "        \n",
    "#5. Запишем построчно ответ в отдельный otvet.txt файл        \n",
    "with open('C:/Users/evostrikov/Desktop/folder/otvet.txt', 'w') as ouf:\n",
    "    for k, v in dict_classes.items():\n",
    "        ouf.write(str(k) + ' ' + str(v) + '\\n')    "
   ]
  },
  {
   "cell_type": "code",
   "execution_count": null,
   "id": "3a08da8d",
   "metadata": {},
   "outputs": [],
   "source": []
  },
  {
   "cell_type": "code",
   "execution_count": null,
   "id": "4898600b",
   "metadata": {},
   "outputs": [],
   "source": []
  },
  {
   "cell_type": "code",
   "execution_count": null,
   "id": "2ebedfe3",
   "metadata": {},
   "outputs": [],
   "source": []
  },
  {
   "cell_type": "code",
   "execution_count": null,
   "id": "8c79683b",
   "metadata": {},
   "outputs": [],
   "source": []
  },
  {
   "cell_type": "code",
   "execution_count": null,
   "id": "3dae2f86",
   "metadata": {},
   "outputs": [],
   "source": []
  },
  {
   "cell_type": "code",
   "execution_count": null,
   "id": "c63d218d",
   "metadata": {},
   "outputs": [],
   "source": []
  },
  {
   "cell_type": "code",
   "execution_count": null,
   "id": "78a8b540",
   "metadata": {},
   "outputs": [],
   "source": []
  },
  {
   "cell_type": "code",
   "execution_count": null,
   "id": "02f81a44",
   "metadata": {},
   "outputs": [],
   "source": []
  },
  {
   "cell_type": "code",
   "execution_count": null,
   "id": "43d22f55",
   "metadata": {},
   "outputs": [],
   "source": []
  },
  {
   "cell_type": "code",
   "execution_count": null,
   "id": "7ceec8ac",
   "metadata": {},
   "outputs": [],
   "source": []
  },
  {
   "cell_type": "code",
   "execution_count": null,
   "id": "4b659473",
   "metadata": {},
   "outputs": [],
   "source": []
  }
 ],
 "metadata": {
  "kernelspec": {
   "display_name": "Python 3",
   "language": "python",
   "name": "python3"
  },
  "language_info": {
   "codemirror_mode": {
    "name": "ipython",
    "version": 3
   },
   "file_extension": ".py",
   "mimetype": "text/x-python",
   "name": "python",
   "nbconvert_exporter": "python",
   "pygments_lexer": "ipython3",
   "version": "3.8.8"
  },
  "toc": {
   "base_numbering": 1,
   "nav_menu": {},
   "number_sections": false,
   "sideBar": true,
   "skip_h1_title": false,
   "title_cell": "Table of Contents",
   "title_sidebar": "Contents",
   "toc_cell": false,
   "toc_position": {
    "height": "calc(100% - 180px)",
    "left": "10px",
    "top": "150px",
    "width": "327.983px"
   },
   "toc_section_display": true,
   "toc_window_display": true
  }
 },
 "nbformat": 4,
 "nbformat_minor": 5
}
